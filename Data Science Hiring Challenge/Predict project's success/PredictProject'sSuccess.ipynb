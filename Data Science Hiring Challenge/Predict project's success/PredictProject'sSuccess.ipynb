{
 "cells": [
  {
   "cell_type": "code",
   "execution_count": 1,
   "metadata": {},
   "outputs": [
    {
     "name": "stderr",
     "output_type": "stream",
     "text": [
      "/home/sparsh/anaconda2/envs/py35/lib/python3.5/site-packages/sklearn/cross_validation.py:41: DeprecationWarning: This module was deprecated in version 0.18 in favor of the model_selection module into which all the refactored classes and functions are moved. Also note that the interface of the new CV iterators are different from that of this module. This module will be removed in 0.20.\n",
      "  \"This module will be removed in 0.20.\", DeprecationWarning)\n"
     ]
    }
   ],
   "source": [
    "import numpy as np\n",
    "import pandas as pd\n",
    "import xgboost as xgb\n",
    "from sklearn.metrics import accuracy_score, confusion_matrix, f1_score\n",
    "from IPython.display import FileLink\n",
    "import matplotlib.pyplot as plt\n",
    "import seaborn as sns\n",
    "%matplotlib inline"
   ]
  },
  {
   "cell_type": "code",
   "execution_count": 44,
   "metadata": {},
   "outputs": [],
   "source": [
    "TrainDataPath = './data/train.csv'\n",
    "TestDataPath = './data/test.csv'\n",
    "\n",
    "# Loading the Training and Test Dataset\n",
    "TrainData = pd.read_csv(TrainDataPath)\n",
    "TestData = pd.read_csv(TestDataPath)"
   ]
  },
  {
   "cell_type": "code",
   "execution_count": 3,
   "metadata": {},
   "outputs": [
    {
     "name": "stdout",
     "output_type": "stream",
     "text": [
      "Training Dataset Shape:\n",
      "(108129, 14)\n",
      "\n",
      "\n",
      "Training Dataset Columns/Features:\n",
      "project_id                object\n",
      "name                      object\n",
      "desc                      object\n",
      "goal                     float64\n",
      "keywords                  object\n",
      "disable_communication       bool\n",
      "country                   object\n",
      "currency                  object\n",
      "deadline                   int64\n",
      "state_changed_at           int64\n",
      "created_at                 int64\n",
      "launched_at                int64\n",
      "backers_count              int64\n",
      "final_status               int64\n",
      "dtype: object\n"
     ]
    },
    {
     "data": {
      "text/html": [
       "<div>\n",
       "<style>\n",
       "    .dataframe thead tr:only-child th {\n",
       "        text-align: right;\n",
       "    }\n",
       "\n",
       "    .dataframe thead th {\n",
       "        text-align: left;\n",
       "    }\n",
       "\n",
       "    .dataframe tbody tr th {\n",
       "        vertical-align: top;\n",
       "    }\n",
       "</style>\n",
       "<table border=\"1\" class=\"dataframe\">\n",
       "  <thead>\n",
       "    <tr style=\"text-align: right;\">\n",
       "      <th></th>\n",
       "      <th>project_id</th>\n",
       "      <th>name</th>\n",
       "      <th>desc</th>\n",
       "      <th>goal</th>\n",
       "      <th>keywords</th>\n",
       "      <th>disable_communication</th>\n",
       "      <th>country</th>\n",
       "      <th>currency</th>\n",
       "      <th>deadline</th>\n",
       "      <th>state_changed_at</th>\n",
       "      <th>created_at</th>\n",
       "      <th>launched_at</th>\n",
       "      <th>backers_count</th>\n",
       "      <th>final_status</th>\n",
       "    </tr>\n",
       "  </thead>\n",
       "  <tbody>\n",
       "    <tr>\n",
       "      <th>0</th>\n",
       "      <td>kkst1451568084</td>\n",
       "      <td>drawing for dollars</td>\n",
       "      <td>I like drawing pictures. and then i color them...</td>\n",
       "      <td>20.0</td>\n",
       "      <td>drawing-for-dollars</td>\n",
       "      <td>False</td>\n",
       "      <td>US</td>\n",
       "      <td>USD</td>\n",
       "      <td>1241333999</td>\n",
       "      <td>1241334017</td>\n",
       "      <td>1240600507</td>\n",
       "      <td>1240602723</td>\n",
       "      <td>3</td>\n",
       "      <td>1</td>\n",
       "    </tr>\n",
       "    <tr>\n",
       "      <th>1</th>\n",
       "      <td>kkst1474482071</td>\n",
       "      <td>Sponsor Dereck Blackburn (Lostwars) Artist in ...</td>\n",
       "      <td>I, Dereck Blackburn will be taking upon an inc...</td>\n",
       "      <td>300.0</td>\n",
       "      <td>sponsor-dereck-blackburn-lostwars-artist-in-re...</td>\n",
       "      <td>False</td>\n",
       "      <td>US</td>\n",
       "      <td>USD</td>\n",
       "      <td>1242429000</td>\n",
       "      <td>1242432018</td>\n",
       "      <td>1240960224</td>\n",
       "      <td>1240975592</td>\n",
       "      <td>2</td>\n",
       "      <td>0</td>\n",
       "    </tr>\n",
       "    <tr>\n",
       "      <th>2</th>\n",
       "      <td>kkst183622197</td>\n",
       "      <td>Mr. Squiggles</td>\n",
       "      <td>So I saw darkpony's successfully funded drawin...</td>\n",
       "      <td>30.0</td>\n",
       "      <td>mr-squiggles</td>\n",
       "      <td>False</td>\n",
       "      <td>US</td>\n",
       "      <td>USD</td>\n",
       "      <td>1243027560</td>\n",
       "      <td>1243027818</td>\n",
       "      <td>1242163613</td>\n",
       "      <td>1242164398</td>\n",
       "      <td>0</td>\n",
       "      <td>0</td>\n",
       "    </tr>\n",
       "    <tr>\n",
       "      <th>3</th>\n",
       "      <td>kkst597742710</td>\n",
       "      <td>Help me write my second novel.</td>\n",
       "      <td>Do your part to help out starving artists and ...</td>\n",
       "      <td>500.0</td>\n",
       "      <td>help-me-write-my-second-novel</td>\n",
       "      <td>False</td>\n",
       "      <td>US</td>\n",
       "      <td>USD</td>\n",
       "      <td>1243555740</td>\n",
       "      <td>1243556121</td>\n",
       "      <td>1240963795</td>\n",
       "      <td>1240966730</td>\n",
       "      <td>18</td>\n",
       "      <td>1</td>\n",
       "    </tr>\n",
       "    <tr>\n",
       "      <th>4</th>\n",
       "      <td>kkst1913131122</td>\n",
       "      <td>Support casting my sculpture in bronze</td>\n",
       "      <td>I'm nearing completion on a sculpture, current...</td>\n",
       "      <td>2000.0</td>\n",
       "      <td>support-casting-my-sculpture-in-bronze</td>\n",
       "      <td>False</td>\n",
       "      <td>US</td>\n",
       "      <td>USD</td>\n",
       "      <td>1243769880</td>\n",
       "      <td>1243770317</td>\n",
       "      <td>1241177914</td>\n",
       "      <td>1241180541</td>\n",
       "      <td>1</td>\n",
       "      <td>0</td>\n",
       "    </tr>\n",
       "  </tbody>\n",
       "</table>\n",
       "</div>"
      ],
      "text/plain": [
       "       project_id                                               name  \\\n",
       "0  kkst1451568084                                drawing for dollars   \n",
       "1  kkst1474482071  Sponsor Dereck Blackburn (Lostwars) Artist in ...   \n",
       "2   kkst183622197                                      Mr. Squiggles   \n",
       "3   kkst597742710                     Help me write my second novel.   \n",
       "4  kkst1913131122             Support casting my sculpture in bronze   \n",
       "\n",
       "                                                desc    goal  \\\n",
       "0  I like drawing pictures. and then i color them...    20.0   \n",
       "1  I, Dereck Blackburn will be taking upon an inc...   300.0   \n",
       "2  So I saw darkpony's successfully funded drawin...    30.0   \n",
       "3  Do your part to help out starving artists and ...   500.0   \n",
       "4  I'm nearing completion on a sculpture, current...  2000.0   \n",
       "\n",
       "                                            keywords  disable_communication  \\\n",
       "0                                drawing-for-dollars                  False   \n",
       "1  sponsor-dereck-blackburn-lostwars-artist-in-re...                  False   \n",
       "2                                       mr-squiggles                  False   \n",
       "3                      help-me-write-my-second-novel                  False   \n",
       "4             support-casting-my-sculpture-in-bronze                  False   \n",
       "\n",
       "  country currency    deadline  state_changed_at  created_at  launched_at  \\\n",
       "0      US      USD  1241333999        1241334017  1240600507   1240602723   \n",
       "1      US      USD  1242429000        1242432018  1240960224   1240975592   \n",
       "2      US      USD  1243027560        1243027818  1242163613   1242164398   \n",
       "3      US      USD  1243555740        1243556121  1240963795   1240966730   \n",
       "4      US      USD  1243769880        1243770317  1241177914   1241180541   \n",
       "\n",
       "   backers_count  final_status  \n",
       "0              3             1  \n",
       "1              2             0  \n",
       "2              0             0  \n",
       "3             18             1  \n",
       "4              1             0  "
      ]
     },
     "execution_count": 3,
     "metadata": {},
     "output_type": "execute_result"
    }
   ],
   "source": [
    "print(\"Training Dataset Shape:\")\n",
    "print(TrainData.shape)\n",
    "print(\"\\n\")\n",
    "print(\"Training Dataset Columns/Features:\")\n",
    "print(TrainData.dtypes)\n",
    "TrainData.head()"
   ]
  },
  {
   "cell_type": "code",
   "execution_count": 4,
   "metadata": {},
   "outputs": [
    {
     "name": "stdout",
     "output_type": "stream",
     "text": [
      "Test Dataset Shape:\n",
      "(63465, 12)\n",
      "\n",
      "\n",
      "Test Dataset Columns/Features:\n",
      "project_id                object\n",
      "name                      object\n",
      "desc                      object\n",
      "goal                     float64\n",
      "keywords                  object\n",
      "disable_communication       bool\n",
      "country                   object\n",
      "currency                  object\n",
      "deadline                   int64\n",
      "state_changed_at           int64\n",
      "created_at                 int64\n",
      "launched_at                int64\n",
      "dtype: object\n"
     ]
    },
    {
     "data": {
      "text/html": [
       "<div>\n",
       "<style>\n",
       "    .dataframe thead tr:only-child th {\n",
       "        text-align: right;\n",
       "    }\n",
       "\n",
       "    .dataframe thead th {\n",
       "        text-align: left;\n",
       "    }\n",
       "\n",
       "    .dataframe tbody tr th {\n",
       "        vertical-align: top;\n",
       "    }\n",
       "</style>\n",
       "<table border=\"1\" class=\"dataframe\">\n",
       "  <thead>\n",
       "    <tr style=\"text-align: right;\">\n",
       "      <th></th>\n",
       "      <th>project_id</th>\n",
       "      <th>name</th>\n",
       "      <th>desc</th>\n",
       "      <th>goal</th>\n",
       "      <th>keywords</th>\n",
       "      <th>disable_communication</th>\n",
       "      <th>country</th>\n",
       "      <th>currency</th>\n",
       "      <th>deadline</th>\n",
       "      <th>state_changed_at</th>\n",
       "      <th>created_at</th>\n",
       "      <th>launched_at</th>\n",
       "    </tr>\n",
       "  </thead>\n",
       "  <tbody>\n",
       "    <tr>\n",
       "      <th>0</th>\n",
       "      <td>kkst917493670</td>\n",
       "      <td>Bràthair.</td>\n",
       "      <td>My first film, of many to come. Trying to purs...</td>\n",
       "      <td>7000.0</td>\n",
       "      <td>brathair</td>\n",
       "      <td>False</td>\n",
       "      <td>US</td>\n",
       "      <td>USD</td>\n",
       "      <td>1449619185</td>\n",
       "      <td>1449619185</td>\n",
       "      <td>1446002581</td>\n",
       "      <td>1446159585</td>\n",
       "    </tr>\n",
       "    <tr>\n",
       "      <th>1</th>\n",
       "      <td>kkst1664901914</td>\n",
       "      <td>THE SCREENWRITER</td>\n",
       "      <td>A young man that has earned his master's in sc...</td>\n",
       "      <td>35000.0</td>\n",
       "      <td>the-screenwriter</td>\n",
       "      <td>False</td>\n",
       "      <td>US</td>\n",
       "      <td>USD</td>\n",
       "      <td>1453435620</td>\n",
       "      <td>1453435620</td>\n",
       "      <td>1450297323</td>\n",
       "      <td>1450411620</td>\n",
       "    </tr>\n",
       "    <tr>\n",
       "      <th>2</th>\n",
       "      <td>kkst925125077</td>\n",
       "      <td>The Hornets Nest the Fairmont Heights Story</td>\n",
       "      <td>Film about a high school constructed for negro...</td>\n",
       "      <td>49500.0</td>\n",
       "      <td>the-hornets-nest-the-fairmont-heights-story</td>\n",
       "      <td>False</td>\n",
       "      <td>US</td>\n",
       "      <td>USD</td>\n",
       "      <td>1451780700</td>\n",
       "      <td>1451780700</td>\n",
       "      <td>1448581356</td>\n",
       "      <td>1448672128</td>\n",
       "    </tr>\n",
       "    <tr>\n",
       "      <th>3</th>\n",
       "      <td>kkst1427645275</td>\n",
       "      <td>BROTHERS Season 2 - Groundbreaking Transgender...</td>\n",
       "      <td>The acclaimed series about a group of transgen...</td>\n",
       "      <td>40000.0</td>\n",
       "      <td>brothers-season-2-groundbreaking-transgender-male</td>\n",
       "      <td>False</td>\n",
       "      <td>US</td>\n",
       "      <td>USD</td>\n",
       "      <td>1445021518</td>\n",
       "      <td>1445021530</td>\n",
       "      <td>1440966830</td>\n",
       "      <td>1442429518</td>\n",
       "    </tr>\n",
       "    <tr>\n",
       "      <th>4</th>\n",
       "      <td>kkst1714249266</td>\n",
       "      <td>Blackdom the movie</td>\n",
       "      <td>Blackdom's history offers  a new narrative tha...</td>\n",
       "      <td>20000.0</td>\n",
       "      <td>blackdom-the-movie</td>\n",
       "      <td>False</td>\n",
       "      <td>US</td>\n",
       "      <td>USD</td>\n",
       "      <td>1462068840</td>\n",
       "      <td>1462068844</td>\n",
       "      <td>1455765276</td>\n",
       "      <td>1458334890</td>\n",
       "    </tr>\n",
       "  </tbody>\n",
       "</table>\n",
       "</div>"
      ],
      "text/plain": [
       "       project_id                                               name  \\\n",
       "0   kkst917493670                                          Bràthair.   \n",
       "1  kkst1664901914                                   THE SCREENWRITER   \n",
       "2   kkst925125077        The Hornets Nest the Fairmont Heights Story   \n",
       "3  kkst1427645275  BROTHERS Season 2 - Groundbreaking Transgender...   \n",
       "4  kkst1714249266                                 Blackdom the movie   \n",
       "\n",
       "                                                desc     goal  \\\n",
       "0  My first film, of many to come. Trying to purs...   7000.0   \n",
       "1  A young man that has earned his master's in sc...  35000.0   \n",
       "2  Film about a high school constructed for negro...  49500.0   \n",
       "3  The acclaimed series about a group of transgen...  40000.0   \n",
       "4  Blackdom's history offers  a new narrative tha...  20000.0   \n",
       "\n",
       "                                            keywords  disable_communication  \\\n",
       "0                                           brathair                  False   \n",
       "1                                   the-screenwriter                  False   \n",
       "2        the-hornets-nest-the-fairmont-heights-story                  False   \n",
       "3  brothers-season-2-groundbreaking-transgender-male                  False   \n",
       "4                                 blackdom-the-movie                  False   \n",
       "\n",
       "  country currency    deadline  state_changed_at  created_at  launched_at  \n",
       "0      US      USD  1449619185        1449619185  1446002581   1446159585  \n",
       "1      US      USD  1453435620        1453435620  1450297323   1450411620  \n",
       "2      US      USD  1451780700        1451780700  1448581356   1448672128  \n",
       "3      US      USD  1445021518        1445021530  1440966830   1442429518  \n",
       "4      US      USD  1462068840        1462068844  1455765276   1458334890  "
      ]
     },
     "execution_count": 4,
     "metadata": {},
     "output_type": "execute_result"
    }
   ],
   "source": [
    "print(\"Test Dataset Shape:\")\n",
    "print(TestData.shape)\n",
    "print(\"\\n\")\n",
    "print(\"Test Dataset Columns/Features:\")\n",
    "print(TestData.dtypes)\n",
    "TestData.head()"
   ]
  },
  {
   "cell_type": "code",
   "execution_count": 5,
   "metadata": {},
   "outputs": [
    {
     "name": "stdout",
     "output_type": "stream",
     "text": [
      "Training Dataset Missing Value Columns:\n",
      "project_id               0\n",
      "name                     1\n",
      "desc                     8\n",
      "goal                     0\n",
      "keywords                 0\n",
      "disable_communication    0\n",
      "country                  0\n",
      "currency                 0\n",
      "deadline                 0\n",
      "state_changed_at         0\n",
      "created_at               0\n",
      "launched_at              0\n",
      "backers_count            0\n",
      "final_status             0\n",
      "dtype: int64\n",
      "\n",
      "\n",
      "Test Dataset Missing Value Columns:\n",
      "project_id               0\n",
      "name                     0\n",
      "desc                     4\n",
      "goal                     0\n",
      "keywords                 0\n",
      "disable_communication    0\n",
      "country                  0\n",
      "currency                 0\n",
      "deadline                 0\n",
      "state_changed_at         0\n",
      "created_at               0\n",
      "launched_at              0\n",
      "dtype: int64\n"
     ]
    }
   ],
   "source": [
    "# Now Checking For Any Missing Values\n",
    "print(\"Training Dataset Missing Value Columns:\")\n",
    "print(TrainData.isnull().sum())\n",
    "print(\"\\n\")\n",
    "print(\"Test Dataset Missing Value Columns:\")\n",
    "print(TestData.isnull().sum())"
   ]
  },
  {
   "cell_type": "code",
   "execution_count": 6,
   "metadata": {},
   "outputs": [
    {
     "name": "stdout",
     "output_type": "stream",
     "text": [
      "Different type in train and test dataset: \n",
      "['US' 'GB' 'CA' 'AU' 'NZ' 'NL' 'SE' 'IE' 'NO' 'DK' 'DE']\n",
      "['US' 'IT' 'GB' 'AU' 'NO' 'NL' 'SE' 'ES' 'DK' 'CA' 'DE' 'IE' 'FR' 'NZ' 'CH'\n",
      " 'BE' 'AT' 'LU' 'HK' 'SG' 'MX']\n",
      "\n",
      "\n",
      "Different pf_categories in train and test dataset: \n",
      "['USD' 'GBP' 'CAD' 'AUD' 'NZD' 'EUR' 'SEK' 'NOK' 'DKK']\n",
      "['USD' 'EUR' 'GBP' 'AUD' 'NOK' 'SEK' 'DKK' 'CAD' 'NZD' 'CHF' 'HKD' 'SGD'\n",
      " 'MXN']\n"
     ]
    }
   ],
   "source": [
    "# From this I will get to know what are different categories of type, pf_category and currency\n",
    "print(\"Different type in train and test dataset: \")\n",
    "print(TrainData['country'].unique())\n",
    "print(TestData['country'].unique())\n",
    "print(\"\\n\")\n",
    "print(\"Different pf_categories in train and test dataset: \")\n",
    "print(TrainData['currency'].unique())\n",
    "print(TestData['currency'].unique())"
   ]
  },
  {
   "cell_type": "code",
   "execution_count": 7,
   "metadata": {},
   "outputs": [
    {
     "name": "stdout",
     "output_type": "stream",
     "text": [
      "Different country in train and test dataset: \n",
      "11\n",
      "21\n",
      "\n",
      "\n",
      "Different currency in train and test dataset: \n",
      "9\n",
      "13\n"
     ]
    }
   ],
   "source": [
    "# From this I will get to know what are different categories of type, pf_category and currency\n",
    "print(\"Different country in train and test dataset: \")\n",
    "print(TrainData['country'].nunique())\n",
    "print(TestData['country'].nunique())\n",
    "print(\"\\n\")\n",
    "print(\"Different currency in train and test dataset: \")\n",
    "print(TrainData['currency'].nunique())\n",
    "print(TestData['currency'].nunique())"
   ]
  },
  {
   "cell_type": "markdown",
   "metadata": {},
   "source": [
    "**From above we find out that test has more categories in country and currency features than the train dataset**"
   ]
  },
  {
   "cell_type": "markdown",
   "metadata": {},
   "source": [
    "# VISUALIZATION OF DATASET"
   ]
  },
  {
   "cell_type": "code",
   "execution_count": 8,
   "metadata": {},
   "outputs": [
    {
     "name": "stdout",
     "output_type": "stream",
     "text": [
      "Number of 0's(Unsuccessful) :  73568\n",
      "Number of 1's(Successful)   :  34561\n"
     ]
    },
    {
     "data": {
      "image/png": "[encoded data removed]",
      "text/plain": [
       "<matplotlib.figure.Figure at 0x7fd41c8db1d0>"
      ]
     },
     "metadata": {},
     "output_type": "display_data"
    }
   ],
   "source": [
    "ax = sns.countplot(TrainData['final_status'],label=\"Count\")\n",
    "B, M = TrainData['final_status'].value_counts()\n",
    "print('Number of 0\\'s(Unsuccessful) : ',B)\n",
    "print('Number of 1\\'s(Successful)   : ',M) "
   ]
  },
  {
   "cell_type": "code",
   "execution_count": 9,
   "metadata": {},
   "outputs": [
    {
     "name": "stdout",
     "output_type": "stream",
     "text": [
      "Number of False :  107806\n",
      "Number of True  :  323\n"
     ]
    },
    {
     "data": {
      "image/png": "[encoded data removed]",
      "text/plain": [
       "<matplotlib.figure.Figure at 0x7fd3e3ac7208>"
      ]
     },
     "metadata": {},
     "output_type": "display_data"
    }
   ],
   "source": [
    "ax = sns.countplot(TrainData['disable_communication'],label=\"Count\")\n",
    "B, M = TrainData['disable_communication'].value_counts()\n",
    "print('Number of False : ',B)\n",
    "print('Number of True  : ',M) "
   ]
  },
  {
   "cell_type": "code",
   "execution_count": 10,
   "metadata": {},
   "outputs": [
    {
     "name": "stdout",
     "output_type": "stream",
     "text": [
      "Number of False :  63119\n",
      "Number of True  :  346\n"
     ]
    },
    {
     "data": {
      "image/png": "[encoded data removed]",
      "text/plain": [
       "<matplotlib.figure.Figure at 0x7fd3e0b0ba20>"
      ]
     },
     "metadata": {},
     "output_type": "display_data"
    }
   ],
   "source": [
    "ax = sns.countplot(TestData['disable_communication'],label=\"Count\")\n",
    "B, M = TestData['disable_communication'].value_counts()\n",
    "print('Number of False : ',B)\n",
    "print('Number of True  : ',M) "
   ]
  },
  {
   "cell_type": "code",
   "execution_count": 11,
   "metadata": {},
   "outputs": [
    {
     "data": {
      "text/plain": [
       "<matplotlib.text.Text at 0x7fd3e0a7b7b8>"
      ]
     },
     "execution_count": 11,
     "metadata": {},
     "output_type": "execute_result"
    },
    {
     "data": {
      "image/png": "[encoded data removed]",
      "text/plain": [
       "<matplotlib.figure.Figure at 0x7fd3e0b06128>"
      ]
     },
     "metadata": {},
     "output_type": "display_data"
    }
   ],
   "source": [
    "# Visualiza the data\n",
    "plt.figure(figsize= (15,5))\n",
    "sns.countplot(x = TrainData['country'])\n",
    "plt.title('Fig 1 : Countplot Showing The Project Author Country - TrainData', fontsize = 15)"
   ]
  },
  {
   "cell_type": "code",
   "execution_count": 12,
   "metadata": {},
   "outputs": [
    {
     "data": {
      "text/plain": [
       "<matplotlib.text.Text at 0x7fd3e09946a0>"
      ]
     },
     "execution_count": 12,
     "metadata": {},
     "output_type": "execute_result"
    },
    {
     "data": {
      "image/png": "[encoded data removed]",
      "text/plain": [
       "<matplotlib.figure.Figure at 0x7fd3e0adfb00>"
      ]
     },
     "metadata": {},
     "output_type": "display_data"
    }
   ],
   "source": [
    "# Visualiza the data\n",
    "plt.figure(figsize= (15,5))\n",
    "sns.countplot(x = TestData['country'])\n",
    "plt.title('Fig 1 : Countplot Showing the Project Author Country - TestData', fontsize = 15)"
   ]
  },
  {
   "cell_type": "code",
   "execution_count": 13,
   "metadata": {},
   "outputs": [
    {
     "data": {
      "text/plain": [
       "<matplotlib.text.Text at 0x7fd3e3a632e8>"
      ]
     },
     "execution_count": 13,
     "metadata": {},
     "output_type": "execute_result"
    },
    {
     "data": {
      "image/png": "[encoded data removed]",
      "text/plain": [
       "<matplotlib.figure.Figure at 0x7fd3e0adf6d8>"
      ]
     },
     "metadata": {},
     "output_type": "display_data"
    }
   ],
   "source": [
    "# Visualiza the data\n",
    "plt.figure(figsize= (15,5))\n",
    "sns.countplot(x = TrainData['currency'])\n",
    "plt.title('Fig 1 : Countplot Showing the Currency In Which Goal (amount) Is Required - TrainData', fontsize = 15)"
   ]
  },
  {
   "cell_type": "code",
   "execution_count": 14,
   "metadata": {},
   "outputs": [
    {
     "data": {
      "text/plain": [
       "<matplotlib.text.Text at 0x7fd3e0928b70>"
      ]
     },
     "execution_count": 14,
     "metadata": {},
     "output_type": "execute_result"
    },
    {
     "data": {
      "image/png": "[encoded data removed]",
      "text/plain": [
       "<matplotlib.figure.Figure at 0x7fd3e3aa4b00>"
      ]
     },
     "metadata": {},
     "output_type": "display_data"
    }
   ],
   "source": [
    "# Visualiza the data\n",
    "plt.figure(figsize= (15,5))\n",
    "sns.countplot(x = TestData['currency'])\n",
    "plt.title('Fig 1 : Countplot Showing the Currency In Which Goal (amount) Is Required - TestData', fontsize = 15)"
   ]
  },
  {
   "cell_type": "code",
   "execution_count": 15,
   "metadata": {},
   "outputs": [
    {
     "data": {
      "text/plain": [
       "<matplotlib.text.Text at 0x7fd3e08545c0>"
      ]
     },
     "execution_count": 15,
     "metadata": {},
     "output_type": "execute_result"
    },
    {
     "data": {
      "image/png": "[encoded data removed]",
      "text/plain": [
       "<matplotlib.figure.Figure at 0x7fd3e08d2fd0>"
      ]
     },
     "metadata": {},
     "output_type": "display_data"
    }
   ],
   "source": [
    "plt.figure(figsize= (15,5))\n",
    "plt.plot(TrainData['goal'])\n",
    "plt.title('Goal (amount) - TrainData')"
   ]
  },
  {
   "cell_type": "code",
   "execution_count": 16,
   "metadata": {},
   "outputs": [
    {
     "data": {
      "text/plain": [
       "<matplotlib.text.Text at 0x7fd3e06a06d8>"
      ]
     },
     "execution_count": 16,
     "metadata": {},
     "output_type": "execute_result"
    },
    {
     "data": {
      "image/png": "[encoded data removed]",
      "text/plain": [
       "<matplotlib.figure.Figure at 0x7fd3e066f240>"
      ]
     },
     "metadata": {},
     "output_type": "display_data"
    }
   ],
   "source": [
    "plt.figure(figsize= (15,5))\n",
    "plt.plot(TestData['goal'])\n",
    "plt.title('Goal (amount) - TestData')"
   ]
  },
  {
   "cell_type": "markdown",
   "metadata": {},
   "source": [
    "# Datetime Conversion In Dataset"
   ]
  },
  {
   "cell_type": "code",
   "execution_count": 17,
   "metadata": {},
   "outputs": [
    {
     "data": {
      "text/plain": [
       "0    1241333999\n",
       "1    1242429000\n",
       "2    1243027560\n",
       "3    1243555740\n",
       "4    1243769880\n",
       "Name: deadline, dtype: int64"
      ]
     },
     "execution_count": 17,
     "metadata": {},
     "output_type": "execute_result"
    }
   ],
   "source": [
    "TrainData['deadline'].head()"
   ]
  },
  {
   "cell_type": "code",
   "execution_count": 18,
   "metadata": {},
   "outputs": [
    {
     "name": "stdout",
     "output_type": "stream",
     "text": [
      "0   2009-05-03 06:59:59\n",
      "1   2009-05-15 23:10:00\n",
      "2   2009-05-22 21:26:00\n",
      "3   2009-05-29 00:09:00\n",
      "4   2009-05-31 11:38:00\n",
      "Name: deadline, dtype: datetime64[ns]\n",
      "\n",
      "108124   2015-05-31 18:07:31\n",
      "108125   2015-05-31 18:14:00\n",
      "108126   2015-05-31 18:18:54\n",
      "108127   2015-05-31 18:23:00\n",
      "108128   2015-05-31 18:28:58\n",
      "Name: deadline, dtype: datetime64[ns]\n"
     ]
    }
   ],
   "source": [
    "# Unit = 's' is used when we are dealing with unix timestamp as this is epoch time stamp\n",
    "print(pd.to_datetime(TrainData['deadline'],unit='s').head())\n",
    "print()\n",
    "print(pd.to_datetime(TrainData['deadline'],unit='s').tail())"
   ]
  },
  {
   "cell_type": "markdown",
   "metadata": {},
   "source": [
    "**We can observe that training data is from May 2009 till May 2015**"
   ]
  },
  {
   "cell_type": "code",
   "execution_count": 19,
   "metadata": {},
   "outputs": [],
   "source": [
    "# Convert columns to datetime in both Training and Test Set\n",
    "for i in ['deadline','state_changed_at', 'created_at','launched_at']:\n",
    "    TrainData[i] = pd.to_datetime(TrainData[i],unit='s')\n",
    "    TestData[i] = pd.to_datetime(TestData[i],unit='s')"
   ]
  },
  {
   "cell_type": "code",
   "execution_count": 20,
   "metadata": {},
   "outputs": [
    {
     "data": {
      "text/html": [
       "<div>\n",
       "<style>\n",
       "    .dataframe thead tr:only-child th {\n",
       "        text-align: right;\n",
       "    }\n",
       "\n",
       "    .dataframe thead th {\n",
       "        text-align: left;\n",
       "    }\n",
       "\n",
       "    .dataframe tbody tr th {\n",
       "        vertical-align: top;\n",
       "    }\n",
       "</style>\n",
       "<table border=\"1\" class=\"dataframe\">\n",
       "  <thead>\n",
       "    <tr style=\"text-align: right;\">\n",
       "      <th></th>\n",
       "      <th>project_id</th>\n",
       "      <th>name</th>\n",
       "      <th>desc</th>\n",
       "      <th>goal</th>\n",
       "      <th>keywords</th>\n",
       "      <th>disable_communication</th>\n",
       "      <th>country</th>\n",
       "      <th>currency</th>\n",
       "      <th>deadline</th>\n",
       "      <th>state_changed_at</th>\n",
       "      <th>created_at</th>\n",
       "      <th>launched_at</th>\n",
       "      <th>backers_count</th>\n",
       "      <th>final_status</th>\n",
       "    </tr>\n",
       "  </thead>\n",
       "  <tbody>\n",
       "    <tr>\n",
       "      <th>0</th>\n",
       "      <td>kkst1451568084</td>\n",
       "      <td>drawing for dollars</td>\n",
       "      <td>I like drawing pictures. and then i color them...</td>\n",
       "      <td>20.0</td>\n",
       "      <td>drawing-for-dollars</td>\n",
       "      <td>False</td>\n",
       "      <td>US</td>\n",
       "      <td>USD</td>\n",
       "      <td>2009-05-03 06:59:59</td>\n",
       "      <td>2009-05-03 07:00:17</td>\n",
       "      <td>2009-04-24 19:15:07</td>\n",
       "      <td>2009-04-24 19:52:03</td>\n",
       "      <td>3</td>\n",
       "      <td>1</td>\n",
       "    </tr>\n",
       "    <tr>\n",
       "      <th>1</th>\n",
       "      <td>kkst1474482071</td>\n",
       "      <td>Sponsor Dereck Blackburn (Lostwars) Artist in ...</td>\n",
       "      <td>I, Dereck Blackburn will be taking upon an inc...</td>\n",
       "      <td>300.0</td>\n",
       "      <td>sponsor-dereck-blackburn-lostwars-artist-in-re...</td>\n",
       "      <td>False</td>\n",
       "      <td>US</td>\n",
       "      <td>USD</td>\n",
       "      <td>2009-05-15 23:10:00</td>\n",
       "      <td>2009-05-16 00:00:18</td>\n",
       "      <td>2009-04-28 23:10:24</td>\n",
       "      <td>2009-04-29 03:26:32</td>\n",
       "      <td>2</td>\n",
       "      <td>0</td>\n",
       "    </tr>\n",
       "  </tbody>\n",
       "</table>\n",
       "</div>"
      ],
      "text/plain": [
       "       project_id                                               name  \\\n",
       "0  kkst1451568084                                drawing for dollars   \n",
       "1  kkst1474482071  Sponsor Dereck Blackburn (Lostwars) Artist in ...   \n",
       "\n",
       "                                                desc   goal  \\\n",
       "0  I like drawing pictures. and then i color them...   20.0   \n",
       "1  I, Dereck Blackburn will be taking upon an inc...  300.0   \n",
       "\n",
       "                                            keywords  disable_communication  \\\n",
       "0                                drawing-for-dollars                  False   \n",
       "1  sponsor-dereck-blackburn-lostwars-artist-in-re...                  False   \n",
       "\n",
       "  country currency            deadline    state_changed_at  \\\n",
       "0      US      USD 2009-05-03 06:59:59 2009-05-03 07:00:17   \n",
       "1      US      USD 2009-05-15 23:10:00 2009-05-16 00:00:18   \n",
       "\n",
       "           created_at         launched_at  backers_count  final_status  \n",
       "0 2009-04-24 19:15:07 2009-04-24 19:52:03              3             1  \n",
       "1 2009-04-28 23:10:24 2009-04-29 03:26:32              2             0  "
      ]
     },
     "execution_count": 20,
     "metadata": {},
     "output_type": "execute_result"
    }
   ],
   "source": [
    "TrainData.head(2)"
   ]
  },
  {
   "cell_type": "code",
   "execution_count": 21,
   "metadata": {},
   "outputs": [
    {
     "data": {
      "text/html": [
       "<div>\n",
       "<style>\n",
       "    .dataframe thead tr:only-child th {\n",
       "        text-align: right;\n",
       "    }\n",
       "\n",
       "    .dataframe thead th {\n",
       "        text-align: left;\n",
       "    }\n",
       "\n",
       "    .dataframe tbody tr th {\n",
       "        vertical-align: top;\n",
       "    }\n",
       "</style>\n",
       "<table border=\"1\" class=\"dataframe\">\n",
       "  <thead>\n",
       "    <tr style=\"text-align: right;\">\n",
       "      <th></th>\n",
       "      <th>project_id</th>\n",
       "      <th>name</th>\n",
       "      <th>desc</th>\n",
       "      <th>goal</th>\n",
       "      <th>keywords</th>\n",
       "      <th>disable_communication</th>\n",
       "      <th>country</th>\n",
       "      <th>currency</th>\n",
       "      <th>deadline</th>\n",
       "      <th>state_changed_at</th>\n",
       "      <th>created_at</th>\n",
       "      <th>launched_at</th>\n",
       "    </tr>\n",
       "  </thead>\n",
       "  <tbody>\n",
       "    <tr>\n",
       "      <th>0</th>\n",
       "      <td>kkst917493670</td>\n",
       "      <td>Bràthair.</td>\n",
       "      <td>My first film, of many to come. Trying to purs...</td>\n",
       "      <td>7000.0</td>\n",
       "      <td>brathair</td>\n",
       "      <td>False</td>\n",
       "      <td>US</td>\n",
       "      <td>USD</td>\n",
       "      <td>2015-12-08 23:59:45</td>\n",
       "      <td>2015-12-08 23:59:45</td>\n",
       "      <td>2015-10-28 03:23:01</td>\n",
       "      <td>2015-10-29 22:59:45</td>\n",
       "    </tr>\n",
       "    <tr>\n",
       "      <th>1</th>\n",
       "      <td>kkst1664901914</td>\n",
       "      <td>THE SCREENWRITER</td>\n",
       "      <td>A young man that has earned his master's in sc...</td>\n",
       "      <td>35000.0</td>\n",
       "      <td>the-screenwriter</td>\n",
       "      <td>False</td>\n",
       "      <td>US</td>\n",
       "      <td>USD</td>\n",
       "      <td>2016-01-22 04:07:00</td>\n",
       "      <td>2016-01-22 04:07:00</td>\n",
       "      <td>2015-12-16 20:22:03</td>\n",
       "      <td>2015-12-18 04:07:00</td>\n",
       "    </tr>\n",
       "  </tbody>\n",
       "</table>\n",
       "</div>"
      ],
      "text/plain": [
       "       project_id              name  \\\n",
       "0   kkst917493670         Bràthair.   \n",
       "1  kkst1664901914  THE SCREENWRITER   \n",
       "\n",
       "                                                desc     goal  \\\n",
       "0  My first film, of many to come. Trying to purs...   7000.0   \n",
       "1  A young man that has earned his master's in sc...  35000.0   \n",
       "\n",
       "           keywords  disable_communication country currency  \\\n",
       "0          brathair                  False      US      USD   \n",
       "1  the-screenwriter                  False      US      USD   \n",
       "\n",
       "             deadline    state_changed_at          created_at  \\\n",
       "0 2015-12-08 23:59:45 2015-12-08 23:59:45 2015-10-28 03:23:01   \n",
       "1 2016-01-22 04:07:00 2016-01-22 04:07:00 2015-12-16 20:22:03   \n",
       "\n",
       "          launched_at  \n",
       "0 2015-10-29 22:59:45  \n",
       "1 2015-12-18 04:07:00  "
      ]
     },
     "execution_count": 21,
     "metadata": {},
     "output_type": "execute_result"
    }
   ],
   "source": [
    "TestData.head(2)"
   ]
  },
  {
   "cell_type": "code",
   "execution_count": 22,
   "metadata": {},
   "outputs": [
    {
     "name": "stdout",
     "output_type": "stream",
     "text": [
      "108129\n",
      "63465\n"
     ]
    }
   ],
   "source": [
    "print(TrainData['keywords'].nunique()) # Equal to shape of the Train Dataset\n",
    "print(TestData['keywords'].nunique())  # Equal to shape of the Test Dataset"
   ]
  },
  {
   "cell_type": "markdown",
   "metadata": {},
   "source": [
    "**We found no similar keyword in both the Training and Test Dataset**"
   ]
  },
  {
   "cell_type": "code",
   "execution_count": null,
   "metadata": {},
   "outputs": [],
   "source": []
  },
  {
   "cell_type": "code",
   "execution_count": null,
   "metadata": {},
   "outputs": [],
   "source": []
  },
  {
   "cell_type": "code",
   "execution_count": 23,
   "metadata": {},
   "outputs": [],
   "source": [
    "Train = TrainData.copy()\n",
    "Test = TestData.copy()"
   ]
  },
  {
   "cell_type": "code",
   "execution_count": 24,
   "metadata": {},
   "outputs": [],
   "source": [
    "Train = Train.drop(['backers_count'], axis=1)"
   ]
  },
  {
   "cell_type": "code",
   "execution_count": 25,
   "metadata": {},
   "outputs": [
    {
     "data": {
      "text/html": [
       "<div>\n",
       "<style>\n",
       "    .dataframe thead tr:only-child th {\n",
       "        text-align: right;\n",
       "    }\n",
       "\n",
       "    .dataframe thead th {\n",
       "        text-align: left;\n",
       "    }\n",
       "\n",
       "    .dataframe tbody tr th {\n",
       "        vertical-align: top;\n",
       "    }\n",
       "</style>\n",
       "<table border=\"1\" class=\"dataframe\">\n",
       "  <thead>\n",
       "    <tr style=\"text-align: right;\">\n",
       "      <th></th>\n",
       "      <th>project_id</th>\n",
       "      <th>name</th>\n",
       "      <th>desc</th>\n",
       "      <th>goal</th>\n",
       "      <th>keywords</th>\n",
       "      <th>disable_communication</th>\n",
       "      <th>country</th>\n",
       "      <th>currency</th>\n",
       "      <th>deadline</th>\n",
       "      <th>state_changed_at</th>\n",
       "      <th>created_at</th>\n",
       "      <th>launched_at</th>\n",
       "      <th>final_status</th>\n",
       "    </tr>\n",
       "  </thead>\n",
       "  <tbody>\n",
       "    <tr>\n",
       "      <th>0</th>\n",
       "      <td>kkst1451568084</td>\n",
       "      <td>drawing for dollars</td>\n",
       "      <td>I like drawing pictures. and then i color them...</td>\n",
       "      <td>20.0</td>\n",
       "      <td>drawing-for-dollars</td>\n",
       "      <td>False</td>\n",
       "      <td>US</td>\n",
       "      <td>USD</td>\n",
       "      <td>2009-05-03 06:59:59</td>\n",
       "      <td>2009-05-03 07:00:17</td>\n",
       "      <td>2009-04-24 19:15:07</td>\n",
       "      <td>2009-04-24 19:52:03</td>\n",
       "      <td>1</td>\n",
       "    </tr>\n",
       "    <tr>\n",
       "      <th>1</th>\n",
       "      <td>kkst1474482071</td>\n",
       "      <td>Sponsor Dereck Blackburn (Lostwars) Artist in ...</td>\n",
       "      <td>I, Dereck Blackburn will be taking upon an inc...</td>\n",
       "      <td>300.0</td>\n",
       "      <td>sponsor-dereck-blackburn-lostwars-artist-in-re...</td>\n",
       "      <td>False</td>\n",
       "      <td>US</td>\n",
       "      <td>USD</td>\n",
       "      <td>2009-05-15 23:10:00</td>\n",
       "      <td>2009-05-16 00:00:18</td>\n",
       "      <td>2009-04-28 23:10:24</td>\n",
       "      <td>2009-04-29 03:26:32</td>\n",
       "      <td>0</td>\n",
       "    </tr>\n",
       "  </tbody>\n",
       "</table>\n",
       "</div>"
      ],
      "text/plain": [
       "       project_id                                               name  \\\n",
       "0  kkst1451568084                                drawing for dollars   \n",
       "1  kkst1474482071  Sponsor Dereck Blackburn (Lostwars) Artist in ...   \n",
       "\n",
       "                                                desc   goal  \\\n",
       "0  I like drawing pictures. and then i color them...   20.0   \n",
       "1  I, Dereck Blackburn will be taking upon an inc...  300.0   \n",
       "\n",
       "                                            keywords  disable_communication  \\\n",
       "0                                drawing-for-dollars                  False   \n",
       "1  sponsor-dereck-blackburn-lostwars-artist-in-re...                  False   \n",
       "\n",
       "  country currency            deadline    state_changed_at  \\\n",
       "0      US      USD 2009-05-03 06:59:59 2009-05-03 07:00:17   \n",
       "1      US      USD 2009-05-15 23:10:00 2009-05-16 00:00:18   \n",
       "\n",
       "           created_at         launched_at  final_status  \n",
       "0 2009-04-24 19:15:07 2009-04-24 19:52:03             1  \n",
       "1 2009-04-28 23:10:24 2009-04-29 03:26:32             0  "
      ]
     },
     "execution_count": 25,
     "metadata": {},
     "output_type": "execute_result"
    }
   ],
   "source": [
    "Train.head(2)"
   ]
  },
  {
   "cell_type": "code",
   "execution_count": 26,
   "metadata": {},
   "outputs": [
    {
     "data": {
      "text/html": [
       "<div>\n",
       "<style>\n",
       "    .dataframe thead tr:only-child th {\n",
       "        text-align: right;\n",
       "    }\n",
       "\n",
       "    .dataframe thead th {\n",
       "        text-align: left;\n",
       "    }\n",
       "\n",
       "    .dataframe tbody tr th {\n",
       "        vertical-align: top;\n",
       "    }\n",
       "</style>\n",
       "<table border=\"1\" class=\"dataframe\">\n",
       "  <thead>\n",
       "    <tr style=\"text-align: right;\">\n",
       "      <th></th>\n",
       "      <th>project_id</th>\n",
       "      <th>name</th>\n",
       "      <th>desc</th>\n",
       "      <th>goal</th>\n",
       "      <th>keywords</th>\n",
       "      <th>disable_communication</th>\n",
       "      <th>country</th>\n",
       "      <th>currency</th>\n",
       "      <th>deadline</th>\n",
       "      <th>state_changed_at</th>\n",
       "      <th>created_at</th>\n",
       "      <th>launched_at</th>\n",
       "    </tr>\n",
       "  </thead>\n",
       "  <tbody>\n",
       "    <tr>\n",
       "      <th>0</th>\n",
       "      <td>kkst917493670</td>\n",
       "      <td>Bràthair.</td>\n",
       "      <td>My first film, of many to come. Trying to purs...</td>\n",
       "      <td>7000.0</td>\n",
       "      <td>brathair</td>\n",
       "      <td>False</td>\n",
       "      <td>US</td>\n",
       "      <td>USD</td>\n",
       "      <td>2015-12-08 23:59:45</td>\n",
       "      <td>2015-12-08 23:59:45</td>\n",
       "      <td>2015-10-28 03:23:01</td>\n",
       "      <td>2015-10-29 22:59:45</td>\n",
       "    </tr>\n",
       "    <tr>\n",
       "      <th>1</th>\n",
       "      <td>kkst1664901914</td>\n",
       "      <td>THE SCREENWRITER</td>\n",
       "      <td>A young man that has earned his master's in sc...</td>\n",
       "      <td>35000.0</td>\n",
       "      <td>the-screenwriter</td>\n",
       "      <td>False</td>\n",
       "      <td>US</td>\n",
       "      <td>USD</td>\n",
       "      <td>2016-01-22 04:07:00</td>\n",
       "      <td>2016-01-22 04:07:00</td>\n",
       "      <td>2015-12-16 20:22:03</td>\n",
       "      <td>2015-12-18 04:07:00</td>\n",
       "    </tr>\n",
       "  </tbody>\n",
       "</table>\n",
       "</div>"
      ],
      "text/plain": [
       "       project_id              name  \\\n",
       "0   kkst917493670         Bràthair.   \n",
       "1  kkst1664901914  THE SCREENWRITER   \n",
       "\n",
       "                                                desc     goal  \\\n",
       "0  My first film, of many to come. Trying to purs...   7000.0   \n",
       "1  A young man that has earned his master's in sc...  35000.0   \n",
       "\n",
       "           keywords  disable_communication country currency  \\\n",
       "0          brathair                  False      US      USD   \n",
       "1  the-screenwriter                  False      US      USD   \n",
       "\n",
       "             deadline    state_changed_at          created_at  \\\n",
       "0 2015-12-08 23:59:45 2015-12-08 23:59:45 2015-10-28 03:23:01   \n",
       "1 2016-01-22 04:07:00 2016-01-22 04:07:00 2015-12-16 20:22:03   \n",
       "\n",
       "          launched_at  \n",
       "0 2015-10-29 22:59:45  \n",
       "1 2015-12-18 04:07:00  "
      ]
     },
     "execution_count": 26,
     "metadata": {},
     "output_type": "execute_result"
    }
   ],
   "source": [
    "Test.head(2)"
   ]
  },
  {
   "cell_type": "code",
   "execution_count": 27,
   "metadata": {},
   "outputs": [
    {
     "name": "stdout",
     "output_type": "stream",
     "text": [
      "(108129, 13)\n",
      "(63465, 12)\n"
     ]
    }
   ],
   "source": [
    "print(Train.shape)\n",
    "print(Test.shape)"
   ]
  },
  {
   "cell_type": "code",
   "execution_count": 28,
   "metadata": {},
   "outputs": [
    {
     "data": {
      "text/plain": [
       "project_id                       object\n",
       "name                             object\n",
       "desc                             object\n",
       "goal                            float64\n",
       "keywords                         object\n",
       "disable_communication              bool\n",
       "country                          object\n",
       "currency                         object\n",
       "deadline                 datetime64[ns]\n",
       "state_changed_at         datetime64[ns]\n",
       "created_at               datetime64[ns]\n",
       "launched_at              datetime64[ns]\n",
       "final_status                      int64\n",
       "dtype: object"
      ]
     },
     "execution_count": 28,
     "metadata": {},
     "output_type": "execute_result"
    }
   ],
   "source": [
    "Train.dtypes"
   ]
  },
  {
   "cell_type": "code",
   "execution_count": 29,
   "metadata": {},
   "outputs": [
    {
     "data": {
      "text/plain": [
       "project_id                       object\n",
       "name                             object\n",
       "desc                             object\n",
       "goal                            float64\n",
       "keywords                         object\n",
       "disable_communication              bool\n",
       "country                          object\n",
       "currency                         object\n",
       "deadline                 datetime64[ns]\n",
       "state_changed_at         datetime64[ns]\n",
       "created_at               datetime64[ns]\n",
       "launched_at              datetime64[ns]\n",
       "dtype: object"
      ]
     },
     "execution_count": 29,
     "metadata": {},
     "output_type": "execute_result"
    }
   ],
   "source": [
    "Test.dtypes"
   ]
  },
  {
   "cell_type": "code",
   "execution_count": 30,
   "metadata": {},
   "outputs": [
    {
     "data": {
      "text/plain": [
       "0           0.0\n",
       "1           0.0\n",
       "2           0.0\n",
       "3           0.0\n",
       "4           0.0\n",
       "5           0.0\n",
       "6           0.0\n",
       "7           0.0\n",
       "8           0.0\n",
       "9           0.0\n",
       "10          0.0\n",
       "11          0.0\n",
       "12          0.0\n",
       "13          0.0\n",
       "14          0.0\n",
       "15          0.0\n",
       "16          0.0\n",
       "17          0.0\n",
       "18          0.0\n",
       "19          0.0\n",
       "20          0.0\n",
       "21          0.0\n",
       "22          0.0\n",
       "23          0.0\n",
       "24          0.0\n",
       "25          0.0\n",
       "26          0.0\n",
       "27          0.0\n",
       "28          0.0\n",
       "29          0.0\n",
       "          ...  \n",
       "108099      0.0\n",
       "108100      0.0\n",
       "108101      0.0\n",
       "108102      0.0\n",
       "108103      0.0\n",
       "108104      0.0\n",
       "108105      0.0\n",
       "108106      0.0\n",
       "108107      0.0\n",
       "108108   -483.0\n",
       "108109      0.0\n",
       "108110      0.0\n",
       "108111      0.0\n",
       "108112      0.0\n",
       "108113      0.0\n",
       "108114      0.0\n",
       "108115      0.0\n",
       "108116      0.0\n",
       "108117      0.0\n",
       "108118      0.0\n",
       "108119      0.0\n",
       "108120      0.0\n",
       "108121      0.0\n",
       "108122      0.0\n",
       "108123      0.0\n",
       "108124      0.0\n",
       "108125      0.0\n",
       "108126      0.0\n",
       "108127      0.0\n",
       "108128      0.0\n",
       "Length: 108129, dtype: float64"
      ]
     },
     "execution_count": 30,
     "metadata": {},
     "output_type": "execute_result"
    }
   ],
   "source": [
    "(Train['state_changed_at'] - TrainData['deadline']).astype('timedelta64[h]')"
   ]
  },
  {
   "cell_type": "code",
   "execution_count": 31,
   "metadata": {},
   "outputs": [],
   "source": [
    "y_train = Train['final_status']\n",
    "x_train = Train.drop(['project_id','name','desc','keywords','final_status'], axis=1)"
   ]
  },
  {
   "cell_type": "code",
   "execution_count": 32,
   "metadata": {},
   "outputs": [
    {
     "data": {
      "text/html": [
       "<div>\n",
       "<style>\n",
       "    .dataframe thead tr:only-child th {\n",
       "        text-align: right;\n",
       "    }\n",
       "\n",
       "    .dataframe thead th {\n",
       "        text-align: left;\n",
       "    }\n",
       "\n",
       "    .dataframe tbody tr th {\n",
       "        vertical-align: top;\n",
       "    }\n",
       "</style>\n",
       "<table border=\"1\" class=\"dataframe\">\n",
       "  <thead>\n",
       "    <tr style=\"text-align: right;\">\n",
       "      <th></th>\n",
       "      <th>goal</th>\n",
       "      <th>disable_communication</th>\n",
       "      <th>country</th>\n",
       "      <th>currency</th>\n",
       "      <th>deadline</th>\n",
       "      <th>state_changed_at</th>\n",
       "      <th>created_at</th>\n",
       "      <th>launched_at</th>\n",
       "    </tr>\n",
       "  </thead>\n",
       "  <tbody>\n",
       "    <tr>\n",
       "      <th>0</th>\n",
       "      <td>20.0</td>\n",
       "      <td>False</td>\n",
       "      <td>US</td>\n",
       "      <td>USD</td>\n",
       "      <td>2009-05-03 06:59:59</td>\n",
       "      <td>2009-05-03 07:00:17</td>\n",
       "      <td>2009-04-24 19:15:07</td>\n",
       "      <td>2009-04-24 19:52:03</td>\n",
       "    </tr>\n",
       "    <tr>\n",
       "      <th>1</th>\n",
       "      <td>300.0</td>\n",
       "      <td>False</td>\n",
       "      <td>US</td>\n",
       "      <td>USD</td>\n",
       "      <td>2009-05-15 23:10:00</td>\n",
       "      <td>2009-05-16 00:00:18</td>\n",
       "      <td>2009-04-28 23:10:24</td>\n",
       "      <td>2009-04-29 03:26:32</td>\n",
       "    </tr>\n",
       "    <tr>\n",
       "      <th>2</th>\n",
       "      <td>30.0</td>\n",
       "      <td>False</td>\n",
       "      <td>US</td>\n",
       "      <td>USD</td>\n",
       "      <td>2009-05-22 21:26:00</td>\n",
       "      <td>2009-05-22 21:30:18</td>\n",
       "      <td>2009-05-12 21:26:53</td>\n",
       "      <td>2009-05-12 21:39:58</td>\n",
       "    </tr>\n",
       "    <tr>\n",
       "      <th>3</th>\n",
       "      <td>500.0</td>\n",
       "      <td>False</td>\n",
       "      <td>US</td>\n",
       "      <td>USD</td>\n",
       "      <td>2009-05-29 00:09:00</td>\n",
       "      <td>2009-05-29 00:15:21</td>\n",
       "      <td>2009-04-29 00:09:55</td>\n",
       "      <td>2009-04-29 00:58:50</td>\n",
       "    </tr>\n",
       "    <tr>\n",
       "      <th>4</th>\n",
       "      <td>2000.0</td>\n",
       "      <td>False</td>\n",
       "      <td>US</td>\n",
       "      <td>USD</td>\n",
       "      <td>2009-05-31 11:38:00</td>\n",
       "      <td>2009-05-31 11:45:17</td>\n",
       "      <td>2009-05-01 11:38:34</td>\n",
       "      <td>2009-05-01 12:22:21</td>\n",
       "    </tr>\n",
       "  </tbody>\n",
       "</table>\n",
       "</div>"
      ],
      "text/plain": [
       "     goal  disable_communication country currency            deadline  \\\n",
       "0    20.0                  False      US      USD 2009-05-03 06:59:59   \n",
       "1   300.0                  False      US      USD 2009-05-15 23:10:00   \n",
       "2    30.0                  False      US      USD 2009-05-22 21:26:00   \n",
       "3   500.0                  False      US      USD 2009-05-29 00:09:00   \n",
       "4  2000.0                  False      US      USD 2009-05-31 11:38:00   \n",
       "\n",
       "     state_changed_at          created_at         launched_at  \n",
       "0 2009-05-03 07:00:17 2009-04-24 19:15:07 2009-04-24 19:52:03  \n",
       "1 2009-05-16 00:00:18 2009-04-28 23:10:24 2009-04-29 03:26:32  \n",
       "2 2009-05-22 21:30:18 2009-05-12 21:26:53 2009-05-12 21:39:58  \n",
       "3 2009-05-29 00:15:21 2009-04-29 00:09:55 2009-04-29 00:58:50  \n",
       "4 2009-05-31 11:45:17 2009-05-01 11:38:34 2009-05-01 12:22:21  "
      ]
     },
     "execution_count": 32,
     "metadata": {},
     "output_type": "execute_result"
    }
   ],
   "source": [
    "x_train.head()"
   ]
  },
  {
   "cell_type": "code",
   "execution_count": 33,
   "metadata": {},
   "outputs": [],
   "source": [
    "pro_id = Test['project_id']\n",
    "x_test = Test.drop(['project_id','name','desc','keywords'], axis=1)"
   ]
  },
  {
   "cell_type": "code",
   "execution_count": 34,
   "metadata": {},
   "outputs": [
    {
     "data": {
      "text/plain": [
       "0     kkst917493670\n",
       "1    kkst1664901914\n",
       "2     kkst925125077\n",
       "3    kkst1427645275\n",
       "4    kkst1714249266\n",
       "Name: project_id, dtype: object"
      ]
     },
     "execution_count": 34,
     "metadata": {},
     "output_type": "execute_result"
    }
   ],
   "source": [
    "pro_id.head()"
   ]
  },
  {
   "cell_type": "code",
   "execution_count": 35,
   "metadata": {},
   "outputs": [
    {
     "data": {
      "text/html": [
       "<div>\n",
       "<style>\n",
       "    .dataframe thead tr:only-child th {\n",
       "        text-align: right;\n",
       "    }\n",
       "\n",
       "    .dataframe thead th {\n",
       "        text-align: left;\n",
       "    }\n",
       "\n",
       "    .dataframe tbody tr th {\n",
       "        vertical-align: top;\n",
       "    }\n",
       "</style>\n",
       "<table border=\"1\" class=\"dataframe\">\n",
       "  <thead>\n",
       "    <tr style=\"text-align: right;\">\n",
       "      <th></th>\n",
       "      <th>goal</th>\n",
       "      <th>disable_communication</th>\n",
       "      <th>country</th>\n",
       "      <th>currency</th>\n",
       "      <th>deadline</th>\n",
       "      <th>state_changed_at</th>\n",
       "      <th>created_at</th>\n",
       "      <th>launched_at</th>\n",
       "    </tr>\n",
       "  </thead>\n",
       "  <tbody>\n",
       "    <tr>\n",
       "      <th>0</th>\n",
       "      <td>7000.0</td>\n",
       "      <td>False</td>\n",
       "      <td>US</td>\n",
       "      <td>USD</td>\n",
       "      <td>2015-12-08 23:59:45</td>\n",
       "      <td>2015-12-08 23:59:45</td>\n",
       "      <td>2015-10-28 03:23:01</td>\n",
       "      <td>2015-10-29 22:59:45</td>\n",
       "    </tr>\n",
       "    <tr>\n",
       "      <th>1</th>\n",
       "      <td>35000.0</td>\n",
       "      <td>False</td>\n",
       "      <td>US</td>\n",
       "      <td>USD</td>\n",
       "      <td>2016-01-22 04:07:00</td>\n",
       "      <td>2016-01-22 04:07:00</td>\n",
       "      <td>2015-12-16 20:22:03</td>\n",
       "      <td>2015-12-18 04:07:00</td>\n",
       "    </tr>\n",
       "    <tr>\n",
       "      <th>2</th>\n",
       "      <td>49500.0</td>\n",
       "      <td>False</td>\n",
       "      <td>US</td>\n",
       "      <td>USD</td>\n",
       "      <td>2016-01-03 00:25:00</td>\n",
       "      <td>2016-01-03 00:25:00</td>\n",
       "      <td>2015-11-26 23:42:36</td>\n",
       "      <td>2015-11-28 00:55:28</td>\n",
       "    </tr>\n",
       "    <tr>\n",
       "      <th>3</th>\n",
       "      <td>40000.0</td>\n",
       "      <td>False</td>\n",
       "      <td>US</td>\n",
       "      <td>USD</td>\n",
       "      <td>2015-10-16 18:51:58</td>\n",
       "      <td>2015-10-16 18:52:10</td>\n",
       "      <td>2015-08-30 20:33:50</td>\n",
       "      <td>2015-09-16 18:51:58</td>\n",
       "    </tr>\n",
       "    <tr>\n",
       "      <th>4</th>\n",
       "      <td>20000.0</td>\n",
       "      <td>False</td>\n",
       "      <td>US</td>\n",
       "      <td>USD</td>\n",
       "      <td>2016-05-01 02:14:00</td>\n",
       "      <td>2016-05-01 02:14:04</td>\n",
       "      <td>2016-02-18 03:14:36</td>\n",
       "      <td>2016-03-18 21:01:30</td>\n",
       "    </tr>\n",
       "  </tbody>\n",
       "</table>\n",
       "</div>"
      ],
      "text/plain": [
       "      goal  disable_communication country currency            deadline  \\\n",
       "0   7000.0                  False      US      USD 2015-12-08 23:59:45   \n",
       "1  35000.0                  False      US      USD 2016-01-22 04:07:00   \n",
       "2  49500.0                  False      US      USD 2016-01-03 00:25:00   \n",
       "3  40000.0                  False      US      USD 2015-10-16 18:51:58   \n",
       "4  20000.0                  False      US      USD 2016-05-01 02:14:00   \n",
       "\n",
       "     state_changed_at          created_at         launched_at  \n",
       "0 2015-12-08 23:59:45 2015-10-28 03:23:01 2015-10-29 22:59:45  \n",
       "1 2016-01-22 04:07:00 2015-12-16 20:22:03 2015-12-18 04:07:00  \n",
       "2 2016-01-03 00:25:00 2015-11-26 23:42:36 2015-11-28 00:55:28  \n",
       "3 2015-10-16 18:52:10 2015-08-30 20:33:50 2015-09-16 18:51:58  \n",
       "4 2016-05-01 02:14:04 2016-02-18 03:14:36 2016-03-18 21:01:30  "
      ]
     },
     "execution_count": 35,
     "metadata": {},
     "output_type": "execute_result"
    }
   ],
   "source": [
    "x_test.head()"
   ]
  },
  {
   "cell_type": "code",
   "execution_count": 36,
   "metadata": {},
   "outputs": [
    {
     "data": {
      "text/html": [
       "<div>\n",
       "<style>\n",
       "    .dataframe thead tr:only-child th {\n",
       "        text-align: right;\n",
       "    }\n",
       "\n",
       "    .dataframe thead th {\n",
       "        text-align: left;\n",
       "    }\n",
       "\n",
       "    .dataframe tbody tr th {\n",
       "        vertical-align: top;\n",
       "    }\n",
       "</style>\n",
       "<table border=\"1\" class=\"dataframe\">\n",
       "  <thead>\n",
       "    <tr style=\"text-align: right;\">\n",
       "      <th></th>\n",
       "      <th>goal</th>\n",
       "      <th>disable_communication</th>\n",
       "      <th>country</th>\n",
       "      <th>currency</th>\n",
       "      <th>deadline</th>\n",
       "      <th>state_changed_at</th>\n",
       "      <th>created_at</th>\n",
       "      <th>launched_at</th>\n",
       "    </tr>\n",
       "  </thead>\n",
       "  <tbody>\n",
       "    <tr>\n",
       "      <th>0</th>\n",
       "      <td>20.0</td>\n",
       "      <td>False</td>\n",
       "      <td>US</td>\n",
       "      <td>USD</td>\n",
       "      <td>2009-05-03 06:59:59</td>\n",
       "      <td>2009-05-03 07:00:17</td>\n",
       "      <td>2009-04-24 19:15:07</td>\n",
       "      <td>2009-04-24 19:52:03</td>\n",
       "    </tr>\n",
       "    <tr>\n",
       "      <th>1</th>\n",
       "      <td>300.0</td>\n",
       "      <td>False</td>\n",
       "      <td>US</td>\n",
       "      <td>USD</td>\n",
       "      <td>2009-05-15 23:10:00</td>\n",
       "      <td>2009-05-16 00:00:18</td>\n",
       "      <td>2009-04-28 23:10:24</td>\n",
       "      <td>2009-04-29 03:26:32</td>\n",
       "    </tr>\n",
       "    <tr>\n",
       "      <th>2</th>\n",
       "      <td>30.0</td>\n",
       "      <td>False</td>\n",
       "      <td>US</td>\n",
       "      <td>USD</td>\n",
       "      <td>2009-05-22 21:26:00</td>\n",
       "      <td>2009-05-22 21:30:18</td>\n",
       "      <td>2009-05-12 21:26:53</td>\n",
       "      <td>2009-05-12 21:39:58</td>\n",
       "    </tr>\n",
       "    <tr>\n",
       "      <th>3</th>\n",
       "      <td>500.0</td>\n",
       "      <td>False</td>\n",
       "      <td>US</td>\n",
       "      <td>USD</td>\n",
       "      <td>2009-05-29 00:09:00</td>\n",
       "      <td>2009-05-29 00:15:21</td>\n",
       "      <td>2009-04-29 00:09:55</td>\n",
       "      <td>2009-04-29 00:58:50</td>\n",
       "    </tr>\n",
       "    <tr>\n",
       "      <th>4</th>\n",
       "      <td>2000.0</td>\n",
       "      <td>False</td>\n",
       "      <td>US</td>\n",
       "      <td>USD</td>\n",
       "      <td>2009-05-31 11:38:00</td>\n",
       "      <td>2009-05-31 11:45:17</td>\n",
       "      <td>2009-05-01 11:38:34</td>\n",
       "      <td>2009-05-01 12:22:21</td>\n",
       "    </tr>\n",
       "  </tbody>\n",
       "</table>\n",
       "</div>"
      ],
      "text/plain": [
       "     goal  disable_communication country currency            deadline  \\\n",
       "0    20.0                  False      US      USD 2009-05-03 06:59:59   \n",
       "1   300.0                  False      US      USD 2009-05-15 23:10:00   \n",
       "2    30.0                  False      US      USD 2009-05-22 21:26:00   \n",
       "3   500.0                  False      US      USD 2009-05-29 00:09:00   \n",
       "4  2000.0                  False      US      USD 2009-05-31 11:38:00   \n",
       "\n",
       "     state_changed_at          created_at         launched_at  \n",
       "0 2009-05-03 07:00:17 2009-04-24 19:15:07 2009-04-24 19:52:03  \n",
       "1 2009-05-16 00:00:18 2009-04-28 23:10:24 2009-04-29 03:26:32  \n",
       "2 2009-05-22 21:30:18 2009-05-12 21:26:53 2009-05-12 21:39:58  \n",
       "3 2009-05-29 00:15:21 2009-04-29 00:09:55 2009-04-29 00:58:50  \n",
       "4 2009-05-31 11:45:17 2009-05-01 11:38:34 2009-05-01 12:22:21  "
      ]
     },
     "execution_count": 36,
     "metadata": {},
     "output_type": "execute_result"
    }
   ],
   "source": [
    "x_train.head()"
   ]
  },
  {
   "cell_type": "markdown",
   "metadata": {},
   "source": [
    "# Feature Engineering"
   ]
  },
  {
   "cell_type": "code",
   "execution_count": 37,
   "metadata": {},
   "outputs": [],
   "source": [
    "x_train['state-dead'] = (x_train['state_changed_at'] - x_train['deadline']).astype('timedelta64[h]')\n",
    "x_train['dead-create'] = (x_train['deadline'] - x_train['created_at']).astype('timedelta64[h]')\n",
    "x_train['dead-launch'] = (x_train['deadline'] - x_train['launched_at']).astype('timedelta64[h]')\n",
    "x_train['state-create'] = (x_train['state_changed_at'] - x_train['created_at']).astype('timedelta64[h]')\n",
    "x_train['state-launch'] = (x_train['state_changed_at'] - x_train['launched_at']).astype('timedelta64[h]')\n",
    "x_train['launch-create'] = (x_train['launched_at'] - x_train['created_at']).astype('timedelta64[h]')"
   ]
  },
  {
   "cell_type": "code",
   "execution_count": 38,
   "metadata": {},
   "outputs": [
    {
     "data": {
      "text/html": [
       "<div>\n",
       "<style>\n",
       "    .dataframe thead tr:only-child th {\n",
       "        text-align: right;\n",
       "    }\n",
       "\n",
       "    .dataframe thead th {\n",
       "        text-align: left;\n",
       "    }\n",
       "\n",
       "    .dataframe tbody tr th {\n",
       "        vertical-align: top;\n",
       "    }\n",
       "</style>\n",
       "<table border=\"1\" class=\"dataframe\">\n",
       "  <thead>\n",
       "    <tr style=\"text-align: right;\">\n",
       "      <th></th>\n",
       "      <th>goal</th>\n",
       "      <th>disable_communication</th>\n",
       "      <th>country</th>\n",
       "      <th>currency</th>\n",
       "      <th>deadline</th>\n",
       "      <th>state_changed_at</th>\n",
       "      <th>created_at</th>\n",
       "      <th>launched_at</th>\n",
       "      <th>state-dead</th>\n",
       "      <th>dead-create</th>\n",
       "      <th>dead-launch</th>\n",
       "      <th>state-create</th>\n",
       "      <th>state-launch</th>\n",
       "      <th>launch-create</th>\n",
       "    </tr>\n",
       "  </thead>\n",
       "  <tbody>\n",
       "    <tr>\n",
       "      <th>0</th>\n",
       "      <td>20.0</td>\n",
       "      <td>False</td>\n",
       "      <td>US</td>\n",
       "      <td>USD</td>\n",
       "      <td>2009-05-03 06:59:59</td>\n",
       "      <td>2009-05-03 07:00:17</td>\n",
       "      <td>2009-04-24 19:15:07</td>\n",
       "      <td>2009-04-24 19:52:03</td>\n",
       "      <td>0.0</td>\n",
       "      <td>203.0</td>\n",
       "      <td>203.0</td>\n",
       "      <td>203.0</td>\n",
       "      <td>203.0</td>\n",
       "      <td>0.0</td>\n",
       "    </tr>\n",
       "    <tr>\n",
       "      <th>1</th>\n",
       "      <td>300.0</td>\n",
       "      <td>False</td>\n",
       "      <td>US</td>\n",
       "      <td>USD</td>\n",
       "      <td>2009-05-15 23:10:00</td>\n",
       "      <td>2009-05-16 00:00:18</td>\n",
       "      <td>2009-04-28 23:10:24</td>\n",
       "      <td>2009-04-29 03:26:32</td>\n",
       "      <td>0.0</td>\n",
       "      <td>407.0</td>\n",
       "      <td>403.0</td>\n",
       "      <td>408.0</td>\n",
       "      <td>404.0</td>\n",
       "      <td>4.0</td>\n",
       "    </tr>\n",
       "    <tr>\n",
       "      <th>2</th>\n",
       "      <td>30.0</td>\n",
       "      <td>False</td>\n",
       "      <td>US</td>\n",
       "      <td>USD</td>\n",
       "      <td>2009-05-22 21:26:00</td>\n",
       "      <td>2009-05-22 21:30:18</td>\n",
       "      <td>2009-05-12 21:26:53</td>\n",
       "      <td>2009-05-12 21:39:58</td>\n",
       "      <td>0.0</td>\n",
       "      <td>239.0</td>\n",
       "      <td>239.0</td>\n",
       "      <td>240.0</td>\n",
       "      <td>239.0</td>\n",
       "      <td>0.0</td>\n",
       "    </tr>\n",
       "    <tr>\n",
       "      <th>3</th>\n",
       "      <td>500.0</td>\n",
       "      <td>False</td>\n",
       "      <td>US</td>\n",
       "      <td>USD</td>\n",
       "      <td>2009-05-29 00:09:00</td>\n",
       "      <td>2009-05-29 00:15:21</td>\n",
       "      <td>2009-04-29 00:09:55</td>\n",
       "      <td>2009-04-29 00:58:50</td>\n",
       "      <td>0.0</td>\n",
       "      <td>719.0</td>\n",
       "      <td>719.0</td>\n",
       "      <td>720.0</td>\n",
       "      <td>719.0</td>\n",
       "      <td>0.0</td>\n",
       "    </tr>\n",
       "    <tr>\n",
       "      <th>4</th>\n",
       "      <td>2000.0</td>\n",
       "      <td>False</td>\n",
       "      <td>US</td>\n",
       "      <td>USD</td>\n",
       "      <td>2009-05-31 11:38:00</td>\n",
       "      <td>2009-05-31 11:45:17</td>\n",
       "      <td>2009-05-01 11:38:34</td>\n",
       "      <td>2009-05-01 12:22:21</td>\n",
       "      <td>0.0</td>\n",
       "      <td>719.0</td>\n",
       "      <td>719.0</td>\n",
       "      <td>720.0</td>\n",
       "      <td>719.0</td>\n",
       "      <td>0.0</td>\n",
       "    </tr>\n",
       "  </tbody>\n",
       "</table>\n",
       "</div>"
      ],
      "text/plain": [
       "     goal  disable_communication country currency            deadline  \\\n",
       "0    20.0                  False      US      USD 2009-05-03 06:59:59   \n",
       "1   300.0                  False      US      USD 2009-05-15 23:10:00   \n",
       "2    30.0                  False      US      USD 2009-05-22 21:26:00   \n",
       "3   500.0                  False      US      USD 2009-05-29 00:09:00   \n",
       "4  2000.0                  False      US      USD 2009-05-31 11:38:00   \n",
       "\n",
       "     state_changed_at          created_at         launched_at  state-dead  \\\n",
       "0 2009-05-03 07:00:17 2009-04-24 19:15:07 2009-04-24 19:52:03         0.0   \n",
       "1 2009-05-16 00:00:18 2009-04-28 23:10:24 2009-04-29 03:26:32         0.0   \n",
       "2 2009-05-22 21:30:18 2009-05-12 21:26:53 2009-05-12 21:39:58         0.0   \n",
       "3 2009-05-29 00:15:21 2009-04-29 00:09:55 2009-04-29 00:58:50         0.0   \n",
       "4 2009-05-31 11:45:17 2009-05-01 11:38:34 2009-05-01 12:22:21         0.0   \n",
       "\n",
       "   dead-create  dead-launch  state-create  state-launch  launch-create  \n",
       "0        203.0        203.0         203.0         203.0            0.0  \n",
       "1        407.0        403.0         408.0         404.0            4.0  \n",
       "2        239.0        239.0         240.0         239.0            0.0  \n",
       "3        719.0        719.0         720.0         719.0            0.0  \n",
       "4        719.0        719.0         720.0         719.0            0.0  "
      ]
     },
     "execution_count": 38,
     "metadata": {},
     "output_type": "execute_result"
    }
   ],
   "source": [
    "x_train.head()"
   ]
  },
  {
   "cell_type": "code",
   "execution_count": 39,
   "metadata": {},
   "outputs": [],
   "source": [
    "x_train = x_train.drop(['deadline','state_changed_at','created_at','launched_at'], axis=1)"
   ]
  },
  {
   "cell_type": "code",
   "execution_count": 40,
   "metadata": {},
   "outputs": [
    {
     "data": {
      "text/html": [
       "<div>\n",
       "<style>\n",
       "    .dataframe thead tr:only-child th {\n",
       "        text-align: right;\n",
       "    }\n",
       "\n",
       "    .dataframe thead th {\n",
       "        text-align: left;\n",
       "    }\n",
       "\n",
       "    .dataframe tbody tr th {\n",
       "        vertical-align: top;\n",
       "    }\n",
       "</style>\n",
       "<table border=\"1\" class=\"dataframe\">\n",
       "  <thead>\n",
       "    <tr style=\"text-align: right;\">\n",
       "      <th></th>\n",
       "      <th>goal</th>\n",
       "      <th>disable_communication</th>\n",
       "      <th>country</th>\n",
       "      <th>currency</th>\n",
       "      <th>state-dead</th>\n",
       "      <th>dead-create</th>\n",
       "      <th>dead-launch</th>\n",
       "      <th>state-create</th>\n",
       "      <th>state-launch</th>\n",
       "      <th>launch-create</th>\n",
       "    </tr>\n",
       "  </thead>\n",
       "  <tbody>\n",
       "    <tr>\n",
       "      <th>0</th>\n",
       "      <td>20.0</td>\n",
       "      <td>False</td>\n",
       "      <td>US</td>\n",
       "      <td>USD</td>\n",
       "      <td>0.0</td>\n",
       "      <td>203.0</td>\n",
       "      <td>203.0</td>\n",
       "      <td>203.0</td>\n",
       "      <td>203.0</td>\n",
       "      <td>0.0</td>\n",
       "    </tr>\n",
       "    <tr>\n",
       "      <th>1</th>\n",
       "      <td>300.0</td>\n",
       "      <td>False</td>\n",
       "      <td>US</td>\n",
       "      <td>USD</td>\n",
       "      <td>0.0</td>\n",
       "      <td>407.0</td>\n",
       "      <td>403.0</td>\n",
       "      <td>408.0</td>\n",
       "      <td>404.0</td>\n",
       "      <td>4.0</td>\n",
       "    </tr>\n",
       "    <tr>\n",
       "      <th>2</th>\n",
       "      <td>30.0</td>\n",
       "      <td>False</td>\n",
       "      <td>US</td>\n",
       "      <td>USD</td>\n",
       "      <td>0.0</td>\n",
       "      <td>239.0</td>\n",
       "      <td>239.0</td>\n",
       "      <td>240.0</td>\n",
       "      <td>239.0</td>\n",
       "      <td>0.0</td>\n",
       "    </tr>\n",
       "    <tr>\n",
       "      <th>3</th>\n",
       "      <td>500.0</td>\n",
       "      <td>False</td>\n",
       "      <td>US</td>\n",
       "      <td>USD</td>\n",
       "      <td>0.0</td>\n",
       "      <td>719.0</td>\n",
       "      <td>719.0</td>\n",
       "      <td>720.0</td>\n",
       "      <td>719.0</td>\n",
       "      <td>0.0</td>\n",
       "    </tr>\n",
       "    <tr>\n",
       "      <th>4</th>\n",
       "      <td>2000.0</td>\n",
       "      <td>False</td>\n",
       "      <td>US</td>\n",
       "      <td>USD</td>\n",
       "      <td>0.0</td>\n",
       "      <td>719.0</td>\n",
       "      <td>719.0</td>\n",
       "      <td>720.0</td>\n",
       "      <td>719.0</td>\n",
       "      <td>0.0</td>\n",
       "    </tr>\n",
       "  </tbody>\n",
       "</table>\n",
       "</div>"
      ],
      "text/plain": [
       "     goal  disable_communication country currency  state-dead  dead-create  \\\n",
       "0    20.0                  False      US      USD         0.0        203.0   \n",
       "1   300.0                  False      US      USD         0.0        407.0   \n",
       "2    30.0                  False      US      USD         0.0        239.0   \n",
       "3   500.0                  False      US      USD         0.0        719.0   \n",
       "4  2000.0                  False      US      USD         0.0        719.0   \n",
       "\n",
       "   dead-launch  state-create  state-launch  launch-create  \n",
       "0        203.0         203.0         203.0            0.0  \n",
       "1        403.0         408.0         404.0            4.0  \n",
       "2        239.0         240.0         239.0            0.0  \n",
       "3        719.0         720.0         719.0            0.0  \n",
       "4        719.0         720.0         719.0            0.0  "
      ]
     },
     "execution_count": 40,
     "metadata": {},
     "output_type": "execute_result"
    }
   ],
   "source": [
    "x_train.head()"
   ]
  },
  {
   "cell_type": "code",
   "execution_count": 41,
   "metadata": {},
   "outputs": [],
   "source": [
    "x_test['state-dead'] = (x_test['state_changed_at'] - x_test['deadline']).astype('timedelta64[h]')\n",
    "x_test['dead-create'] = (x_test['deadline'] - x_test['created_at']).astype('timedelta64[h]')\n",
    "x_test['dead-launch'] = (x_test['deadline'] - x_test['launched_at']).astype('timedelta64[h]')\n",
    "x_test['state-create'] = (x_test['state_changed_at'] - x_test['created_at']).astype('timedelta64[h]')\n",
    "x_test['state-launch'] = (x_test['state_changed_at'] - x_test['launched_at']).astype('timedelta64[h]')\n",
    "x_test['launch-create'] = (x_test['launched_at'] - x_test['created_at']).astype('timedelta64[h]')"
   ]
  },
  {
   "cell_type": "code",
   "execution_count": 42,
   "metadata": {},
   "outputs": [],
   "source": [
    "x_test = x_test.drop(['deadline','state_changed_at','created_at','launched_at'], axis=1)"
   ]
  },
  {
   "cell_type": "code",
   "execution_count": 43,
   "metadata": {},
   "outputs": [
    {
     "data": {
      "text/html": [
       "<div>\n",
       "<style>\n",
       "    .dataframe thead tr:only-child th {\n",
       "        text-align: right;\n",
       "    }\n",
       "\n",
       "    .dataframe thead th {\n",
       "        text-align: left;\n",
       "    }\n",
       "\n",
       "    .dataframe tbody tr th {\n",
       "        vertical-align: top;\n",
       "    }\n",
       "</style>\n",
       "<table border=\"1\" class=\"dataframe\">\n",
       "  <thead>\n",
       "    <tr style=\"text-align: right;\">\n",
       "      <th></th>\n",
       "      <th>goal</th>\n",
       "      <th>disable_communication</th>\n",
       "      <th>country</th>\n",
       "      <th>currency</th>\n",
       "      <th>state-dead</th>\n",
       "      <th>dead-create</th>\n",
       "      <th>dead-launch</th>\n",
       "      <th>state-create</th>\n",
       "      <th>state-launch</th>\n",
       "      <th>launch-create</th>\n",
       "    </tr>\n",
       "  </thead>\n",
       "  <tbody>\n",
       "    <tr>\n",
       "      <th>0</th>\n",
       "      <td>7000.0</td>\n",
       "      <td>False</td>\n",
       "      <td>US</td>\n",
       "      <td>USD</td>\n",
       "      <td>0.0</td>\n",
       "      <td>1004.0</td>\n",
       "      <td>961.0</td>\n",
       "      <td>1004.0</td>\n",
       "      <td>961.0</td>\n",
       "      <td>43.0</td>\n",
       "    </tr>\n",
       "    <tr>\n",
       "      <th>1</th>\n",
       "      <td>35000.0</td>\n",
       "      <td>False</td>\n",
       "      <td>US</td>\n",
       "      <td>USD</td>\n",
       "      <td>0.0</td>\n",
       "      <td>871.0</td>\n",
       "      <td>840.0</td>\n",
       "      <td>871.0</td>\n",
       "      <td>840.0</td>\n",
       "      <td>31.0</td>\n",
       "    </tr>\n",
       "    <tr>\n",
       "      <th>2</th>\n",
       "      <td>49500.0</td>\n",
       "      <td>False</td>\n",
       "      <td>US</td>\n",
       "      <td>USD</td>\n",
       "      <td>0.0</td>\n",
       "      <td>888.0</td>\n",
       "      <td>863.0</td>\n",
       "      <td>888.0</td>\n",
       "      <td>863.0</td>\n",
       "      <td>25.0</td>\n",
       "    </tr>\n",
       "    <tr>\n",
       "      <th>3</th>\n",
       "      <td>40000.0</td>\n",
       "      <td>False</td>\n",
       "      <td>US</td>\n",
       "      <td>USD</td>\n",
       "      <td>0.0</td>\n",
       "      <td>1126.0</td>\n",
       "      <td>720.0</td>\n",
       "      <td>1126.0</td>\n",
       "      <td>720.0</td>\n",
       "      <td>406.0</td>\n",
       "    </tr>\n",
       "    <tr>\n",
       "      <th>4</th>\n",
       "      <td>20000.0</td>\n",
       "      <td>False</td>\n",
       "      <td>US</td>\n",
       "      <td>USD</td>\n",
       "      <td>0.0</td>\n",
       "      <td>1750.0</td>\n",
       "      <td>1037.0</td>\n",
       "      <td>1750.0</td>\n",
       "      <td>1037.0</td>\n",
       "      <td>713.0</td>\n",
       "    </tr>\n",
       "  </tbody>\n",
       "</table>\n",
       "</div>"
      ],
      "text/plain": [
       "      goal  disable_communication country currency  state-dead  dead-create  \\\n",
       "0   7000.0                  False      US      USD         0.0       1004.0   \n",
       "1  35000.0                  False      US      USD         0.0        871.0   \n",
       "2  49500.0                  False      US      USD         0.0        888.0   \n",
       "3  40000.0                  False      US      USD         0.0       1126.0   \n",
       "4  20000.0                  False      US      USD         0.0       1750.0   \n",
       "\n",
       "   dead-launch  state-create  state-launch  launch-create  \n",
       "0        961.0        1004.0         961.0           43.0  \n",
       "1        840.0         871.0         840.0           31.0  \n",
       "2        863.0         888.0         863.0           25.0  \n",
       "3        720.0        1126.0         720.0          406.0  \n",
       "4       1037.0        1750.0        1037.0          713.0  "
      ]
     },
     "execution_count": 43,
     "metadata": {},
     "output_type": "execute_result"
    }
   ],
   "source": [
    "x_test.head()"
   ]
  },
  {
   "cell_type": "code",
   "execution_count": 341,
   "metadata": {},
   "outputs": [
    {
     "name": "stdout",
     "output_type": "stream",
     "text": [
      "Different country in train and test dataset: \n",
      "['US' 'GB' 'CA' 'AU' 'NZ' 'NL' 'SE' 'IE' 'NO' 'DK' 'DE']\n",
      "['US' 'IT' 'GB' 'AU' 'NO' 'NL' 'SE' 'ES' 'DK' 'CA' 'DE' 'IE' 'FR' 'NZ' 'CH'\n",
      " 'BE' 'AT' 'LU' 'HK' 'SG' 'MX']\n",
      "\n",
      "\n",
      "Different currency in train and test dataset: \n",
      "['USD' 'GBP' 'CAD' 'AUD' 'NZD' 'EUR' 'SEK' 'NOK' 'DKK']\n",
      "['USD' 'EUR' 'GBP' 'AUD' 'NOK' 'SEK' 'DKK' 'CAD' 'NZD' 'CHF' 'HKD' 'SGD'\n",
      " 'MXN']\n"
     ]
    }
   ],
   "source": [
    "# From this I will get to know what are different categories of type, pf_category and currency\n",
    "print(\"Different country in train and test dataset: \")\n",
    "print(TrainData['country'].unique())\n",
    "print(TestData['country'].unique())\n",
    "print(\"\\n\")\n",
    "print(\"Different currency in train and test dataset: \")\n",
    "print(TrainData['currency'].unique())\n",
    "print(TestData['currency'].unique())"
   ]
  },
  {
   "cell_type": "code",
   "execution_count": 318,
   "metadata": {},
   "outputs": [
    {
     "data": {
      "text/plain": [
       "['MXN', 'HKD', 'SGD', 'CHF']"
      ]
     },
     "execution_count": 318,
     "metadata": {},
     "output_type": "execute_result"
    }
   ],
   "source": [
    "currency_list = list(set(TestData['currency'].unique()) - set(TrainData['currency'].unique()))\n",
    "currency_list"
   ]
  },
  {
   "cell_type": "code",
   "execution_count": 319,
   "metadata": {},
   "outputs": [
    {
     "data": {
      "text/plain": [
       "['MX', 'BE', 'LU', 'ES', 'IT', 'CH', 'FR', 'AT', 'HK', 'SG']"
      ]
     },
     "execution_count": 319,
     "metadata": {},
     "output_type": "execute_result"
    }
   ],
   "source": [
    "country_list = list(set(TestData['country'].unique()) - set(TrainData['country'].unique()))\n",
    "country_list"
   ]
  },
  {
   "cell_type": "code",
   "execution_count": 320,
   "metadata": {},
   "outputs": [
    {
     "data": {
      "text/html": [
       "<div>\n",
       "<style>\n",
       "    .dataframe thead tr:only-child th {\n",
       "        text-align: right;\n",
       "    }\n",
       "\n",
       "    .dataframe thead th {\n",
       "        text-align: left;\n",
       "    }\n",
       "\n",
       "    .dataframe tbody tr th {\n",
       "        vertical-align: top;\n",
       "    }\n",
       "</style>\n",
       "<table border=\"1\" class=\"dataframe\">\n",
       "  <thead>\n",
       "    <tr style=\"text-align: right;\">\n",
       "      <th></th>\n",
       "      <th>goal</th>\n",
       "      <th>disable_communication</th>\n",
       "      <th>country</th>\n",
       "      <th>currency</th>\n",
       "      <th>backers_count</th>\n",
       "      <th>state-dead</th>\n",
       "      <th>dead-create</th>\n",
       "      <th>dead-launch</th>\n",
       "      <th>state-create</th>\n",
       "      <th>state-launch</th>\n",
       "      <th>launch-create</th>\n",
       "    </tr>\n",
       "  </thead>\n",
       "  <tbody>\n",
       "    <tr>\n",
       "      <th>0</th>\n",
       "      <td>20.0</td>\n",
       "      <td>False</td>\n",
       "      <td>US</td>\n",
       "      <td>USD</td>\n",
       "      <td>3</td>\n",
       "      <td>0.0</td>\n",
       "      <td>203.0</td>\n",
       "      <td>203.0</td>\n",
       "      <td>203.0</td>\n",
       "      <td>203.0</td>\n",
       "      <td>0.0</td>\n",
       "    </tr>\n",
       "    <tr>\n",
       "      <th>1</th>\n",
       "      <td>300.0</td>\n",
       "      <td>False</td>\n",
       "      <td>US</td>\n",
       "      <td>USD</td>\n",
       "      <td>2</td>\n",
       "      <td>0.0</td>\n",
       "      <td>407.0</td>\n",
       "      <td>403.0</td>\n",
       "      <td>408.0</td>\n",
       "      <td>404.0</td>\n",
       "      <td>4.0</td>\n",
       "    </tr>\n",
       "  </tbody>\n",
       "</table>\n",
       "</div>"
      ],
      "text/plain": [
       "    goal  disable_communication country currency  backers_count  state-dead  \\\n",
       "0   20.0                  False      US      USD              3         0.0   \n",
       "1  300.0                  False      US      USD              2         0.0   \n",
       "\n",
       "   dead-create  dead-launch  state-create  state-launch  launch-create  \n",
       "0        203.0        203.0         203.0         203.0            0.0  \n",
       "1        407.0        403.0         408.0         404.0            4.0  "
      ]
     },
     "execution_count": 320,
     "metadata": {},
     "output_type": "execute_result"
    }
   ],
   "source": [
    "x_train.head(2)"
   ]
  },
  {
   "cell_type": "code",
   "execution_count": 321,
   "metadata": {},
   "outputs": [
    {
     "data": {
      "text/plain": [
       "goal                     0\n",
       "disable_communication    0\n",
       "country                  0\n",
       "currency                 0\n",
       "backers_count            0\n",
       "state-dead               0\n",
       "dead-create              0\n",
       "dead-launch              0\n",
       "state-create             0\n",
       "state-launch             0\n",
       "launch-create            0\n",
       "dtype: int64"
      ]
     },
     "execution_count": 321,
     "metadata": {},
     "output_type": "execute_result"
    }
   ],
   "source": [
    "x_train.isnull().sum()"
   ]
  },
  {
   "cell_type": "code",
   "execution_count": 322,
   "metadata": {},
   "outputs": [
    {
     "data": {
      "text/plain": [
       "goal                     0\n",
       "disable_communication    0\n",
       "country                  0\n",
       "currency                 0\n",
       "state-dead               0\n",
       "dead-create              0\n",
       "dead-launch              0\n",
       "state-create             0\n",
       "state-launch             0\n",
       "launch-create            0\n",
       "dtype: int64"
      ]
     },
     "execution_count": 322,
     "metadata": {},
     "output_type": "execute_result"
    }
   ],
   "source": [
    "x_test.isnull().sum()"
   ]
  },
  {
   "cell_type": "code",
   "execution_count": 323,
   "metadata": {},
   "outputs": [
    {
     "data": {
      "text/html": [
       "<div>\n",
       "<style>\n",
       "    .dataframe thead tr:only-child th {\n",
       "        text-align: right;\n",
       "    }\n",
       "\n",
       "    .dataframe thead th {\n",
       "        text-align: left;\n",
       "    }\n",
       "\n",
       "    .dataframe tbody tr th {\n",
       "        vertical-align: top;\n",
       "    }\n",
       "</style>\n",
       "<table border=\"1\" class=\"dataframe\">\n",
       "  <thead>\n",
       "    <tr style=\"text-align: right;\">\n",
       "      <th></th>\n",
       "      <th>goal</th>\n",
       "      <th>disable_communication</th>\n",
       "      <th>country</th>\n",
       "      <th>currency</th>\n",
       "      <th>state-dead</th>\n",
       "      <th>dead-create</th>\n",
       "      <th>dead-launch</th>\n",
       "      <th>state-create</th>\n",
       "      <th>state-launch</th>\n",
       "      <th>launch-create</th>\n",
       "    </tr>\n",
       "  </thead>\n",
       "  <tbody>\n",
       "    <tr>\n",
       "      <th>0</th>\n",
       "      <td>7000.0</td>\n",
       "      <td>False</td>\n",
       "      <td>US</td>\n",
       "      <td>USD</td>\n",
       "      <td>0.0</td>\n",
       "      <td>1004.0</td>\n",
       "      <td>961.0</td>\n",
       "      <td>1004.0</td>\n",
       "      <td>961.0</td>\n",
       "      <td>43.0</td>\n",
       "    </tr>\n",
       "    <tr>\n",
       "      <th>1</th>\n",
       "      <td>35000.0</td>\n",
       "      <td>False</td>\n",
       "      <td>US</td>\n",
       "      <td>USD</td>\n",
       "      <td>0.0</td>\n",
       "      <td>871.0</td>\n",
       "      <td>840.0</td>\n",
       "      <td>871.0</td>\n",
       "      <td>840.0</td>\n",
       "      <td>31.0</td>\n",
       "    </tr>\n",
       "  </tbody>\n",
       "</table>\n",
       "</div>"
      ],
      "text/plain": [
       "      goal  disable_communication country currency  state-dead  dead-create  \\\n",
       "0   7000.0                  False      US      USD         0.0       1004.0   \n",
       "1  35000.0                  False      US      USD         0.0        871.0   \n",
       "\n",
       "   dead-launch  state-create  state-launch  launch-create  \n",
       "0        961.0        1004.0         961.0           43.0  \n",
       "1        840.0         871.0         840.0           31.0  "
      ]
     },
     "execution_count": 323,
     "metadata": {},
     "output_type": "execute_result"
    }
   ],
   "source": [
    "x_test.head(2)"
   ]
  },
  {
   "cell_type": "code",
   "execution_count": 105,
   "metadata": {},
   "outputs": [],
   "source": [
    "Train_ext = pd.get_dummies(x_train, prefix = ['country','currency'])\n",
    "Test_ext = pd.get_dummies(x_test, prefix = ['country','currency'])"
   ]
  },
  {
   "cell_type": "code",
   "execution_count": 106,
   "metadata": {},
   "outputs": [
    {
     "data": {
      "text/html": [
       "<div>\n",
       "<style>\n",
       "    .dataframe thead tr:only-child th {\n",
       "        text-align: right;\n",
       "    }\n",
       "\n",
       "    .dataframe thead th {\n",
       "        text-align: left;\n",
       "    }\n",
       "\n",
       "    .dataframe tbody tr th {\n",
       "        vertical-align: top;\n",
       "    }\n",
       "</style>\n",
       "<table border=\"1\" class=\"dataframe\">\n",
       "  <thead>\n",
       "    <tr style=\"text-align: right;\">\n",
       "      <th></th>\n",
       "      <th>goal</th>\n",
       "      <th>disable_communication</th>\n",
       "      <th>state-dead</th>\n",
       "      <th>dead-create</th>\n",
       "      <th>dead-launch</th>\n",
       "      <th>state-create</th>\n",
       "      <th>state-launch</th>\n",
       "      <th>launch-create</th>\n",
       "      <th>country_AU</th>\n",
       "      <th>country_CA</th>\n",
       "      <th>...</th>\n",
       "      <th>country_US</th>\n",
       "      <th>currency_AUD</th>\n",
       "      <th>currency_CAD</th>\n",
       "      <th>currency_DKK</th>\n",
       "      <th>currency_EUR</th>\n",
       "      <th>currency_GBP</th>\n",
       "      <th>currency_NOK</th>\n",
       "      <th>currency_NZD</th>\n",
       "      <th>currency_SEK</th>\n",
       "      <th>currency_USD</th>\n",
       "    </tr>\n",
       "  </thead>\n",
       "  <tbody>\n",
       "    <tr>\n",
       "      <th>0</th>\n",
       "      <td>20.0</td>\n",
       "      <td>False</td>\n",
       "      <td>0.0</td>\n",
       "      <td>203.0</td>\n",
       "      <td>203.0</td>\n",
       "      <td>203.0</td>\n",
       "      <td>203.0</td>\n",
       "      <td>0.0</td>\n",
       "      <td>0</td>\n",
       "      <td>0</td>\n",
       "      <td>...</td>\n",
       "      <td>1</td>\n",
       "      <td>0</td>\n",
       "      <td>0</td>\n",
       "      <td>0</td>\n",
       "      <td>0</td>\n",
       "      <td>0</td>\n",
       "      <td>0</td>\n",
       "      <td>0</td>\n",
       "      <td>0</td>\n",
       "      <td>1</td>\n",
       "    </tr>\n",
       "  </tbody>\n",
       "</table>\n",
       "<p>1 rows × 28 columns</p>\n",
       "</div>"
      ],
      "text/plain": [
       "   goal  disable_communication  state-dead  dead-create  dead-launch  \\\n",
       "0  20.0                  False         0.0        203.0        203.0   \n",
       "\n",
       "   state-create  state-launch  launch-create  country_AU  country_CA  \\\n",
       "0         203.0         203.0            0.0           0           0   \n",
       "\n",
       "       ...       country_US  currency_AUD  currency_CAD  currency_DKK  \\\n",
       "0      ...                1             0             0             0   \n",
       "\n",
       "   currency_EUR  currency_GBP  currency_NOK  currency_NZD  currency_SEK  \\\n",
       "0             0             0             0             0             0   \n",
       "\n",
       "   currency_USD  \n",
       "0             1  \n",
       "\n",
       "[1 rows x 28 columns]"
      ]
     },
     "execution_count": 106,
     "metadata": {},
     "output_type": "execute_result"
    }
   ],
   "source": [
    "Train_ext.head(1)"
   ]
  },
  {
   "cell_type": "code",
   "execution_count": 107,
   "metadata": {},
   "outputs": [
    {
     "data": {
      "text/html": [
       "<div>\n",
       "<style>\n",
       "    .dataframe thead tr:only-child th {\n",
       "        text-align: right;\n",
       "    }\n",
       "\n",
       "    .dataframe thead th {\n",
       "        text-align: left;\n",
       "    }\n",
       "\n",
       "    .dataframe tbody tr th {\n",
       "        vertical-align: top;\n",
       "    }\n",
       "</style>\n",
       "<table border=\"1\" class=\"dataframe\">\n",
       "  <thead>\n",
       "    <tr style=\"text-align: right;\">\n",
       "      <th></th>\n",
       "      <th>goal</th>\n",
       "      <th>disable_communication</th>\n",
       "      <th>state-dead</th>\n",
       "      <th>dead-create</th>\n",
       "      <th>dead-launch</th>\n",
       "      <th>state-create</th>\n",
       "      <th>state-launch</th>\n",
       "      <th>launch-create</th>\n",
       "      <th>country_AT</th>\n",
       "      <th>country_AU</th>\n",
       "      <th>...</th>\n",
       "      <th>currency_DKK</th>\n",
       "      <th>currency_EUR</th>\n",
       "      <th>currency_GBP</th>\n",
       "      <th>currency_HKD</th>\n",
       "      <th>currency_MXN</th>\n",
       "      <th>currency_NOK</th>\n",
       "      <th>currency_NZD</th>\n",
       "      <th>currency_SEK</th>\n",
       "      <th>currency_SGD</th>\n",
       "      <th>currency_USD</th>\n",
       "    </tr>\n",
       "  </thead>\n",
       "  <tbody>\n",
       "    <tr>\n",
       "      <th>0</th>\n",
       "      <td>7000.0</td>\n",
       "      <td>False</td>\n",
       "      <td>0.0</td>\n",
       "      <td>1004.0</td>\n",
       "      <td>961.0</td>\n",
       "      <td>1004.0</td>\n",
       "      <td>961.0</td>\n",
       "      <td>43.0</td>\n",
       "      <td>0</td>\n",
       "      <td>0</td>\n",
       "      <td>...</td>\n",
       "      <td>0</td>\n",
       "      <td>0</td>\n",
       "      <td>0</td>\n",
       "      <td>0</td>\n",
       "      <td>0</td>\n",
       "      <td>0</td>\n",
       "      <td>0</td>\n",
       "      <td>0</td>\n",
       "      <td>0</td>\n",
       "      <td>1</td>\n",
       "    </tr>\n",
       "  </tbody>\n",
       "</table>\n",
       "<p>1 rows × 42 columns</p>\n",
       "</div>"
      ],
      "text/plain": [
       "     goal  disable_communication  state-dead  dead-create  dead-launch  \\\n",
       "0  7000.0                  False         0.0       1004.0        961.0   \n",
       "\n",
       "   state-create  state-launch  launch-create  country_AT  country_AU  \\\n",
       "0        1004.0         961.0           43.0           0           0   \n",
       "\n",
       "       ...       currency_DKK  currency_EUR  currency_GBP  currency_HKD  \\\n",
       "0      ...                  0             0             0             0   \n",
       "\n",
       "   currency_MXN  currency_NOK  currency_NZD  currency_SEK  currency_SGD  \\\n",
       "0             0             0             0             0             0   \n",
       "\n",
       "   currency_USD  \n",
       "0             1  \n",
       "\n",
       "[1 rows x 42 columns]"
      ]
     },
     "execution_count": 107,
     "metadata": {},
     "output_type": "execute_result"
    }
   ],
   "source": [
    "Test_ext.head(1)"
   ]
  },
  {
   "cell_type": "code",
   "execution_count": 108,
   "metadata": {},
   "outputs": [],
   "source": [
    "for i in currency_list:\n",
    "    Train_ext['currency_'+i] = 0\n",
    "    \n",
    "\n",
    "for i in country_list:\n",
    "    Train_ext['country_'+i] = 0"
   ]
  },
  {
   "cell_type": "code",
   "execution_count": 109,
   "metadata": {},
   "outputs": [
    {
     "data": {
      "text/html": [
       "<div>\n",
       "<style>\n",
       "    .dataframe thead tr:only-child th {\n",
       "        text-align: right;\n",
       "    }\n",
       "\n",
       "    .dataframe thead th {\n",
       "        text-align: left;\n",
       "    }\n",
       "\n",
       "    .dataframe tbody tr th {\n",
       "        vertical-align: top;\n",
       "    }\n",
       "</style>\n",
       "<table border=\"1\" class=\"dataframe\">\n",
       "  <thead>\n",
       "    <tr style=\"text-align: right;\">\n",
       "      <th></th>\n",
       "      <th>goal</th>\n",
       "      <th>disable_communication</th>\n",
       "      <th>state-dead</th>\n",
       "      <th>dead-create</th>\n",
       "      <th>dead-launch</th>\n",
       "      <th>state-create</th>\n",
       "      <th>state-launch</th>\n",
       "      <th>launch-create</th>\n",
       "      <th>country_AU</th>\n",
       "      <th>country_CA</th>\n",
       "      <th>...</th>\n",
       "      <th>country_MX</th>\n",
       "      <th>country_BE</th>\n",
       "      <th>country_LU</th>\n",
       "      <th>country_ES</th>\n",
       "      <th>country_IT</th>\n",
       "      <th>country_CH</th>\n",
       "      <th>country_FR</th>\n",
       "      <th>country_AT</th>\n",
       "      <th>country_HK</th>\n",
       "      <th>country_SG</th>\n",
       "    </tr>\n",
       "  </thead>\n",
       "  <tbody>\n",
       "    <tr>\n",
       "      <th>0</th>\n",
       "      <td>20.0</td>\n",
       "      <td>False</td>\n",
       "      <td>0.0</td>\n",
       "      <td>203.0</td>\n",
       "      <td>203.0</td>\n",
       "      <td>203.0</td>\n",
       "      <td>203.0</td>\n",
       "      <td>0.0</td>\n",
       "      <td>0</td>\n",
       "      <td>0</td>\n",
       "      <td>...</td>\n",
       "      <td>0</td>\n",
       "      <td>0</td>\n",
       "      <td>0</td>\n",
       "      <td>0</td>\n",
       "      <td>0</td>\n",
       "      <td>0</td>\n",
       "      <td>0</td>\n",
       "      <td>0</td>\n",
       "      <td>0</td>\n",
       "      <td>0</td>\n",
       "    </tr>\n",
       "  </tbody>\n",
       "</table>\n",
       "<p>1 rows × 42 columns</p>\n",
       "</div>"
      ],
      "text/plain": [
       "   goal  disable_communication  state-dead  dead-create  dead-launch  \\\n",
       "0  20.0                  False         0.0        203.0        203.0   \n",
       "\n",
       "   state-create  state-launch  launch-create  country_AU  country_CA  \\\n",
       "0         203.0         203.0            0.0           0           0   \n",
       "\n",
       "      ...      country_MX  country_BE  country_LU  country_ES  country_IT  \\\n",
       "0     ...               0           0           0           0           0   \n",
       "\n",
       "   country_CH  country_FR  country_AT  country_HK  country_SG  \n",
       "0           0           0           0           0           0  \n",
       "\n",
       "[1 rows x 42 columns]"
      ]
     },
     "execution_count": 109,
     "metadata": {},
     "output_type": "execute_result"
    }
   ],
   "source": [
    "Train_ext.head(1)"
   ]
  },
  {
   "cell_type": "code",
   "execution_count": 342,
   "metadata": {},
   "outputs": [],
   "source": [
    "x_train = Train_ext.copy()\n",
    "x_test = Test_ext.copy()"
   ]
  },
  {
   "cell_type": "code",
   "execution_count": 44,
   "metadata": {},
   "outputs": [
    {
     "data": {
      "text/plain": [
       "Index(['goal', 'disable_communication', 'country', 'currency', 'state-dead',\n",
       "       'dead-create', 'dead-launch', 'state-create', 'state-launch',\n",
       "       'launch-create'],\n",
       "      dtype='object')"
      ]
     },
     "execution_count": 44,
     "metadata": {},
     "output_type": "execute_result"
    }
   ],
   "source": [
    "x_train.columns"
   ]
  },
  {
   "cell_type": "code",
   "execution_count": 45,
   "metadata": {},
   "outputs": [],
   "source": [
    "x_test = x_test[x_train.columns]"
   ]
  },
  {
   "cell_type": "code",
   "execution_count": 46,
   "metadata": {},
   "outputs": [
    {
     "data": {
      "text/plain": [
       "Index(['goal', 'disable_communication', 'country', 'currency', 'state-dead',\n",
       "       'dead-create', 'dead-launch', 'state-create', 'state-launch',\n",
       "       'launch-create'],\n",
       "      dtype='object')"
      ]
     },
     "execution_count": 46,
     "metadata": {},
     "output_type": "execute_result"
    }
   ],
   "source": [
    "x_test.columns"
   ]
  },
  {
   "cell_type": "markdown",
   "metadata": {},
   "source": [
    "# Observing Correlation"
   ]
  },
  {
   "cell_type": "code",
   "execution_count": 89,
   "metadata": {},
   "outputs": [
    {
     "data": {
      "text/plain": [
       "<matplotlib.axes._subplots.AxesSubplot at 0x7ff2b49b17b8>"
      ]
     },
     "execution_count": 89,
     "metadata": {},
     "output_type": "execute_result"
    },
    {
     "data": {
      "image/png": "[encoded data removed]",
      "text/plain": [
       "<matplotlib.figure.Figure at 0x7ff2b4a51ac8>"
      ]
     },
     "metadata": {},
     "output_type": "display_data"
    }
   ],
   "source": [
    "#correlation map\n",
    "f,ax = plt.subplots(figsize=(15,10))\n",
    "sns.heatmap(x_train.corr(), annot=True, linewidths=.5, fmt= '.1f',ax=ax)"
   ]
  },
  {
   "cell_type": "code",
   "execution_count": 115,
   "metadata": {},
   "outputs": [
    {
     "data": {
      "text/plain": [
       "<matplotlib.axes._subplots.AxesSubplot at 0x7fda16f31630>"
      ]
     },
     "execution_count": 115,
     "metadata": {},
     "output_type": "execute_result"
    },
    {
     "data": {
      "image/png": "[encoded data removed]",
      "text/plain": [
       "<matplotlib.figure.Figure at 0x7fda1cbc19e8>"
      ]
     },
     "metadata": {},
     "output_type": "display_data"
    }
   ],
   "source": [
    "#correlation map\n",
    "f,ax = plt.subplots(figsize=(15, 10))\n",
    "sns.heatmap(x_test.corr(), annot=True, linewidths=.5, fmt= '.1f',ax=ax)"
   ]
  },
  {
   "cell_type": "code",
   "execution_count": 116,
   "metadata": {},
   "outputs": [],
   "source": [
    "x_train = x_train.drop(['state-create','launch-create','currency_AUD','currency_CAD','currency_DKK','currency_GBP','currency_NOK','currency_NZD','currency_SEK','currency_USD','country_MX','country_HK','country_CH','country_SG'],axis=1)\n",
    "x_test = x_test.drop(['state-create','launch-create','currency_AUD','currency_CAD','currency_DKK','currency_GBP','currency_NOK','currency_NZD','currency_SEK','currency_USD','country_MX','country_HK','country_CH','country_SG'], axis=1)"
   ]
  },
  {
   "cell_type": "code",
   "execution_count": 90,
   "metadata": {},
   "outputs": [],
   "source": [
    "x_train = x_train.drop(['country','currency'], axis=1)\n",
    "x_test = x_test.drop(['country','currency'], axis=1)"
   ]
  },
  {
   "cell_type": "code",
   "execution_count": 151,
   "metadata": {},
   "outputs": [],
   "source": [
    "x_train = x_train.drop(['state-create','launch-create'], axis=1)"
   ]
  },
  {
   "cell_type": "code",
   "execution_count": 152,
   "metadata": {},
   "outputs": [],
   "source": [
    "x_train = x_train.drop(['state-launch'], axis=1)"
   ]
  },
  {
   "cell_type": "code",
   "execution_count": 153,
   "metadata": {},
   "outputs": [],
   "source": [
    "x_train = x_train.drop(['state-dead'], axis=1)"
   ]
  },
  {
   "cell_type": "code",
   "execution_count": 154,
   "metadata": {},
   "outputs": [],
   "source": [
    "x_test = x_test.drop(['state-create','launch-create'], axis=1)"
   ]
  },
  {
   "cell_type": "code",
   "execution_count": 155,
   "metadata": {},
   "outputs": [],
   "source": [
    "x_test = x_test.drop(['state-launch'], axis=1)"
   ]
  },
  {
   "cell_type": "code",
   "execution_count": 156,
   "metadata": {},
   "outputs": [],
   "source": [
    "x_test = x_test.drop(['state-dead'], axis=1)"
   ]
  },
  {
   "cell_type": "code",
   "execution_count": 189,
   "metadata": {},
   "outputs": [
    {
     "data": {
      "text/plain": [
       "<matplotlib.axes._subplots.AxesSubplot at 0x7fd9fd5c7a20>"
      ]
     },
     "execution_count": 189,
     "metadata": {},
     "output_type": "execute_result"
    },
    {
     "data": {
      "image/png": "[encoded data removed]",
      "text/plain": [
       "<matplotlib.figure.Figure at 0x7fd9fd5c72b0>"
      ]
     },
     "metadata": {},
     "output_type": "display_data"
    }
   ],
   "source": [
    "#correlation map\n",
    "f,ax = plt.subplots(figsize=(12, 7))\n",
    "sns.heatmap(x_train.corr(), annot=True, linewidths=.5, fmt= '.1f',ax=ax)"
   ]
  },
  {
   "cell_type": "code",
   "execution_count": 190,
   "metadata": {},
   "outputs": [
    {
     "data": {
      "text/plain": [
       "<matplotlib.axes._subplots.AxesSubplot at 0x7fd9fc133940>"
      ]
     },
     "execution_count": 190,
     "metadata": {},
     "output_type": "execute_result"
    },
    {
     "data": {
      "image/png": "[encoded data removed]",
      "text/plain": [
       "<matplotlib.figure.Figure at 0x7fd9fe3be978>"
      ]
     },
     "metadata": {},
     "output_type": "display_data"
    }
   ],
   "source": [
    "#correlation map\n",
    "f,ax = plt.subplots(figsize=(12, 7))\n",
    "sns.heatmap(x_test.corr(), annot=True, linewidths=.5, fmt= '.1f',ax=ax)"
   ]
  },
  {
   "cell_type": "code",
   "execution_count": 258,
   "metadata": {},
   "outputs": [
    {
     "data": {
      "text/html": [
       "<div>\n",
       "<style>\n",
       "    .dataframe thead tr:only-child th {\n",
       "        text-align: right;\n",
       "    }\n",
       "\n",
       "    .dataframe thead th {\n",
       "        text-align: left;\n",
       "    }\n",
       "\n",
       "    .dataframe tbody tr th {\n",
       "        vertical-align: top;\n",
       "    }\n",
       "</style>\n",
       "<table border=\"1\" class=\"dataframe\">\n",
       "  <thead>\n",
       "    <tr style=\"text-align: right;\">\n",
       "      <th></th>\n",
       "      <th>count</th>\n",
       "      <th>mean</th>\n",
       "      <th>std</th>\n",
       "      <th>min</th>\n",
       "      <th>25%</th>\n",
       "      <th>50%</th>\n",
       "      <th>75%</th>\n",
       "      <th>max</th>\n",
       "    </tr>\n",
       "  </thead>\n",
       "  <tbody>\n",
       "    <tr>\n",
       "      <th>goal</th>\n",
       "      <td>63465.0</td>\n",
       "      <td>35323.719263</td>\n",
       "      <td>1.206678e+06</td>\n",
       "      <td>1.0</td>\n",
       "      <td>2000.0</td>\n",
       "      <td>6000.0</td>\n",
       "      <td>20000.0</td>\n",
       "      <td>100000000.0</td>\n",
       "    </tr>\n",
       "    <tr>\n",
       "      <th>state-dead</th>\n",
       "      <td>63465.0</td>\n",
       "      <td>-203.011250</td>\n",
       "      <td>3.734325e+02</td>\n",
       "      <td>-1705.0</td>\n",
       "      <td>-261.0</td>\n",
       "      <td>0.0</td>\n",
       "      <td>0.0</td>\n",
       "      <td>1152.0</td>\n",
       "    </tr>\n",
       "    <tr>\n",
       "      <th>dead-create</th>\n",
       "      <td>63465.0</td>\n",
       "      <td>2009.959663</td>\n",
       "      <td>3.199862e+03</td>\n",
       "      <td>25.0</td>\n",
       "      <td>775.0</td>\n",
       "      <td>1108.0</td>\n",
       "      <td>1761.0</td>\n",
       "      <td>53942.0</td>\n",
       "    </tr>\n",
       "    <tr>\n",
       "      <th>dead-launch</th>\n",
       "      <td>63465.0</td>\n",
       "      <td>798.281651</td>\n",
       "      <td>2.740577e+02</td>\n",
       "      <td>24.0</td>\n",
       "      <td>720.0</td>\n",
       "      <td>720.0</td>\n",
       "      <td>840.0</td>\n",
       "      <td>2143.0</td>\n",
       "    </tr>\n",
       "    <tr>\n",
       "      <th>state-create</th>\n",
       "      <td>63465.0</td>\n",
       "      <td>1807.014591</td>\n",
       "      <td>3.209971e+03</td>\n",
       "      <td>0.0</td>\n",
       "      <td>717.0</td>\n",
       "      <td>943.0</td>\n",
       "      <td>1622.0</td>\n",
       "      <td>53942.0</td>\n",
       "    </tr>\n",
       "    <tr>\n",
       "      <th>state-launch</th>\n",
       "      <td>63465.0</td>\n",
       "      <td>595.329095</td>\n",
       "      <td>4.023874e+02</td>\n",
       "      <td>-9.0</td>\n",
       "      <td>243.0</td>\n",
       "      <td>720.0</td>\n",
       "      <td>721.0</td>\n",
       "      <td>2143.0</td>\n",
       "    </tr>\n",
       "    <tr>\n",
       "      <th>launch-create</th>\n",
       "      <td>63465.0</td>\n",
       "      <td>1211.552541</td>\n",
       "      <td>3.181757e+03</td>\n",
       "      <td>0.0</td>\n",
       "      <td>48.0</td>\n",
       "      <td>223.0</td>\n",
       "      <td>900.0</td>\n",
       "      <td>53606.0</td>\n",
       "    </tr>\n",
       "  </tbody>\n",
       "</table>\n",
       "</div>"
      ],
      "text/plain": [
       "                 count          mean           std     min     25%     50%  \\\n",
       "goal           63465.0  35323.719263  1.206678e+06     1.0  2000.0  6000.0   \n",
       "state-dead     63465.0   -203.011250  3.734325e+02 -1705.0  -261.0     0.0   \n",
       "dead-create    63465.0   2009.959663  3.199862e+03    25.0   775.0  1108.0   \n",
       "dead-launch    63465.0    798.281651  2.740577e+02    24.0   720.0   720.0   \n",
       "state-create   63465.0   1807.014591  3.209971e+03     0.0   717.0   943.0   \n",
       "state-launch   63465.0    595.329095  4.023874e+02    -9.0   243.0   720.0   \n",
       "launch-create  63465.0   1211.552541  3.181757e+03     0.0    48.0   223.0   \n",
       "\n",
       "                   75%          max  \n",
       "goal           20000.0  100000000.0  \n",
       "state-dead         0.0       1152.0  \n",
       "dead-create     1761.0      53942.0  \n",
       "dead-launch      840.0       2143.0  \n",
       "state-create    1622.0      53942.0  \n",
       "state-launch     721.0       2143.0  \n",
       "launch-create    900.0      53606.0  "
      ]
     },
     "execution_count": 258,
     "metadata": {},
     "output_type": "execute_result"
    }
   ],
   "source": [
    "x_test.describe().T"
   ]
  },
  {
   "cell_type": "code",
   "execution_count": 206,
   "metadata": {},
   "outputs": [],
   "source": [
    "x_train['project_id'] = np.log(TrainData['project_id'].str[4:].astype(float))\n",
    "x_test['project_id'] = np.log(TestData['project_id'].str[4:].astype(float))"
   ]
  },
  {
   "cell_type": "code",
   "execution_count": 259,
   "metadata": {},
   "outputs": [
    {
     "data": {
      "text/html": [
       "<div>\n",
       "<style>\n",
       "    .dataframe thead tr:only-child th {\n",
       "        text-align: right;\n",
       "    }\n",
       "\n",
       "    .dataframe thead th {\n",
       "        text-align: left;\n",
       "    }\n",
       "\n",
       "    .dataframe tbody tr th {\n",
       "        vertical-align: top;\n",
       "    }\n",
       "</style>\n",
       "<table border=\"1\" class=\"dataframe\">\n",
       "  <thead>\n",
       "    <tr style=\"text-align: right;\">\n",
       "      <th></th>\n",
       "      <th>count</th>\n",
       "      <th>mean</th>\n",
       "      <th>std</th>\n",
       "      <th>min</th>\n",
       "      <th>25%</th>\n",
       "      <th>50%</th>\n",
       "      <th>75%</th>\n",
       "      <th>max</th>\n",
       "    </tr>\n",
       "  </thead>\n",
       "  <tbody>\n",
       "    <tr>\n",
       "      <th>goal</th>\n",
       "      <td>108129.0</td>\n",
       "      <td>36726.228833</td>\n",
       "      <td>971902.705156</td>\n",
       "      <td>0.01</td>\n",
       "      <td>2000.0</td>\n",
       "      <td>5000.0</td>\n",
       "      <td>13000.0</td>\n",
       "      <td>100000000.0</td>\n",
       "    </tr>\n",
       "    <tr>\n",
       "      <th>state-dead</th>\n",
       "      <td>108129.0</td>\n",
       "      <td>-26.559443</td>\n",
       "      <td>140.624316</td>\n",
       "      <td>-2161.00</td>\n",
       "      <td>0.0</td>\n",
       "      <td>0.0</td>\n",
       "      <td>0.0</td>\n",
       "      <td>7098.0</td>\n",
       "    </tr>\n",
       "    <tr>\n",
       "      <th>dead-create</th>\n",
       "      <td>108129.0</td>\n",
       "      <td>1724.943780</td>\n",
       "      <td>2115.191150</td>\n",
       "      <td>24.00</td>\n",
       "      <td>813.0</td>\n",
       "      <td>1133.0</td>\n",
       "      <td>1718.0</td>\n",
       "      <td>46389.0</td>\n",
       "    </tr>\n",
       "    <tr>\n",
       "      <th>dead-launch</th>\n",
       "      <td>108129.0</td>\n",
       "      <td>819.150792</td>\n",
       "      <td>311.222368</td>\n",
       "      <td>24.00</td>\n",
       "      <td>720.0</td>\n",
       "      <td>720.0</td>\n",
       "      <td>884.0</td>\n",
       "      <td>2207.0</td>\n",
       "    </tr>\n",
       "    <tr>\n",
       "      <th>state-create</th>\n",
       "      <td>108129.0</td>\n",
       "      <td>1698.422098</td>\n",
       "      <td>2119.593339</td>\n",
       "      <td>0.00</td>\n",
       "      <td>795.0</td>\n",
       "      <td>1115.0</td>\n",
       "      <td>1703.0</td>\n",
       "      <td>46389.0</td>\n",
       "    </tr>\n",
       "    <tr>\n",
       "      <th>state-launch</th>\n",
       "      <td>108129.0</td>\n",
       "      <td>792.601541</td>\n",
       "      <td>327.959523</td>\n",
       "      <td>0.00</td>\n",
       "      <td>719.0</td>\n",
       "      <td>720.0</td>\n",
       "      <td>844.0</td>\n",
       "      <td>8515.0</td>\n",
       "    </tr>\n",
       "    <tr>\n",
       "      <th>launch-create</th>\n",
       "      <td>108129.0</td>\n",
       "      <td>905.650233</td>\n",
       "      <td>2091.906213</td>\n",
       "      <td>0.00</td>\n",
       "      <td>72.0</td>\n",
       "      <td>245.0</td>\n",
       "      <td>781.0</td>\n",
       "      <td>45691.0</td>\n",
       "    </tr>\n",
       "  </tbody>\n",
       "</table>\n",
       "</div>"
      ],
      "text/plain": [
       "                  count          mean            std      min     25%     50%  \\\n",
       "goal           108129.0  36726.228833  971902.705156     0.01  2000.0  5000.0   \n",
       "state-dead     108129.0    -26.559443     140.624316 -2161.00     0.0     0.0   \n",
       "dead-create    108129.0   1724.943780    2115.191150    24.00   813.0  1133.0   \n",
       "dead-launch    108129.0    819.150792     311.222368    24.00   720.0   720.0   \n",
       "state-create   108129.0   1698.422098    2119.593339     0.00   795.0  1115.0   \n",
       "state-launch   108129.0    792.601541     327.959523     0.00   719.0   720.0   \n",
       "launch-create  108129.0    905.650233    2091.906213     0.00    72.0   245.0   \n",
       "\n",
       "                   75%          max  \n",
       "goal           13000.0  100000000.0  \n",
       "state-dead         0.0       7098.0  \n",
       "dead-create     1718.0      46389.0  \n",
       "dead-launch      884.0       2207.0  \n",
       "state-create    1703.0      46389.0  \n",
       "state-launch     844.0       8515.0  \n",
       "launch-create    781.0      45691.0  "
      ]
     },
     "execution_count": 259,
     "metadata": {},
     "output_type": "execute_result"
    }
   ],
   "source": [
    "x_train.describe().T"
   ]
  },
  {
   "cell_type": "markdown",
   "metadata": {},
   "source": [
    "# Training The Model"
   ]
  },
  {
   "cell_type": "code",
   "execution_count": 94,
   "metadata": {},
   "outputs": [
    {
     "data": {
      "text/plain": [
       "XGBClassifier(base_score=0.5, colsample_bylevel=1, colsample_bytree=1,\n",
       "       gamma=0, learning_rate=0.1, max_delta_step=0, max_depth=4,\n",
       "       min_child_weight=1, missing=None, n_estimators=800, nthread=-1,\n",
       "       objective='binary:logistic', reg_alpha=0, reg_lambda=1,\n",
       "       scale_pos_weight=1, seed=1729, silent=True, subsample=1)"
      ]
     },
     "execution_count": 94,
     "metadata": {},
     "output_type": "execute_result"
    }
   ],
   "source": [
    "xgb_clf = xgb.XGBClassifier(n_estimators=800, seed=1729, max_depth=4)\n",
    "xgb_clf.fit(x_train, y_train)"
   ]
  },
  {
   "cell_type": "code",
   "execution_count": 95,
   "metadata": {},
   "outputs": [],
   "source": [
    "pred = xgb_clf.predict(x_train)"
   ]
  },
  {
   "cell_type": "code",
   "execution_count": 96,
   "metadata": {},
   "outputs": [
    {
     "data": {
      "text/plain": [
       "0.8885682841790824"
      ]
     },
     "execution_count": 96,
     "metadata": {},
     "output_type": "execute_result"
    }
   ],
   "source": [
    "accuracy_score(y_train, pred)"
   ]
  },
  {
   "cell_type": "code",
   "execution_count": 97,
   "metadata": {},
   "outputs": [
    {
     "data": {
      "text/plain": [
       "<matplotlib.axes._subplots.AxesSubplot at 0x7ff2b49a8ba8>"
      ]
     },
     "execution_count": 97,
     "metadata": {},
     "output_type": "execute_result"
    },
    {
     "data": {
      "image/png": "[encoded data removed]",
      "text/plain": [
       "<matplotlib.figure.Figure at 0x7ff2b46a31d0>"
      ]
     },
     "metadata": {},
     "output_type": "display_data"
    }
   ],
   "source": [
    "xgb.plot_importance(xgb_clf)"
   ]
  },
  {
   "cell_type": "code",
   "execution_count": 98,
   "metadata": {},
   "outputs": [
    {
     "ename": "ValueError",
     "evalue": "feature_names mismatch: ['goal', 'disable_communication', 'backers_count', 'state-dead', 'dead-create', 'dead-launch', 'state-create', 'state-launch', 'launch-create'] ['goal', 'disable_communication', 'state-dead', 'dead-create', 'dead-launch', 'state-create', 'state-launch', 'launch-create']\nexpected backers_count in input data",
     "output_type": "error",
     "traceback": [
      "\u001b[0;31m---------------------------------------------------------------------------\u001b[0m",
      "\u001b[0;31mValueError\u001b[0m                                Traceback (most recent call last)",
      "\u001b[0;32m<ipython-input-98-caaca4cb0516>\u001b[0m in \u001b[0;36m<module>\u001b[0;34m()\u001b[0m\n\u001b[0;32m----> 1\u001b[0;31m \u001b[0mpredictions\u001b[0m \u001b[0;34m=\u001b[0m \u001b[0mxgb_clf\u001b[0m\u001b[0;34m.\u001b[0m\u001b[0mpredict\u001b[0m\u001b[0;34m(\u001b[0m\u001b[0mx_test\u001b[0m\u001b[0;34m)\u001b[0m\u001b[0;34m\u001b[0m\u001b[0m\n\u001b[0m",
      "\u001b[0;32m~/anaconda2/envs/py35/lib/python3.5/site-packages/xgboost/sklearn.py\u001b[0m in \u001b[0;36mpredict\u001b[0;34m(self, data, output_margin, ntree_limit)\u001b[0m\n\u001b[1;32m    463\u001b[0m         class_probs = self.booster().predict(test_dmatrix,\n\u001b[1;32m    464\u001b[0m                                              \u001b[0moutput_margin\u001b[0m\u001b[0;34m=\u001b[0m\u001b[0moutput_margin\u001b[0m\u001b[0;34m,\u001b[0m\u001b[0;34m\u001b[0m\u001b[0m\n\u001b[0;32m--> 465\u001b[0;31m                                              ntree_limit=ntree_limit)\n\u001b[0m\u001b[1;32m    466\u001b[0m         \u001b[0;32mif\u001b[0m \u001b[0mlen\u001b[0m\u001b[0;34m(\u001b[0m\u001b[0mclass_probs\u001b[0m\u001b[0;34m.\u001b[0m\u001b[0mshape\u001b[0m\u001b[0;34m)\u001b[0m \u001b[0;34m>\u001b[0m \u001b[0;36m1\u001b[0m\u001b[0;34m:\u001b[0m\u001b[0;34m\u001b[0m\u001b[0m\n\u001b[1;32m    467\u001b[0m             \u001b[0mcolumn_indexes\u001b[0m \u001b[0;34m=\u001b[0m \u001b[0mnp\u001b[0m\u001b[0;34m.\u001b[0m\u001b[0margmax\u001b[0m\u001b[0;34m(\u001b[0m\u001b[0mclass_probs\u001b[0m\u001b[0;34m,\u001b[0m \u001b[0maxis\u001b[0m\u001b[0;34m=\u001b[0m\u001b[0;36m1\u001b[0m\u001b[0;34m)\u001b[0m\u001b[0;34m\u001b[0m\u001b[0m\n",
      "\u001b[0;32m~/anaconda2/envs/py35/lib/python3.5/site-packages/xgboost/core.py\u001b[0m in \u001b[0;36mpredict\u001b[0;34m(self, data, output_margin, ntree_limit, pred_leaf)\u001b[0m\n\u001b[1;32m    937\u001b[0m             \u001b[0moption_mask\u001b[0m \u001b[0;34m|=\u001b[0m \u001b[0;36m0x02\u001b[0m\u001b[0;34m\u001b[0m\u001b[0m\n\u001b[1;32m    938\u001b[0m \u001b[0;34m\u001b[0m\u001b[0m\n\u001b[0;32m--> 939\u001b[0;31m         \u001b[0mself\u001b[0m\u001b[0;34m.\u001b[0m\u001b[0m_validate_features\u001b[0m\u001b[0;34m(\u001b[0m\u001b[0mdata\u001b[0m\u001b[0;34m)\u001b[0m\u001b[0;34m\u001b[0m\u001b[0m\n\u001b[0m\u001b[1;32m    940\u001b[0m \u001b[0;34m\u001b[0m\u001b[0m\n\u001b[1;32m    941\u001b[0m         \u001b[0mlength\u001b[0m \u001b[0;34m=\u001b[0m \u001b[0mctypes\u001b[0m\u001b[0;34m.\u001b[0m\u001b[0mc_ulong\u001b[0m\u001b[0;34m(\u001b[0m\u001b[0;34m)\u001b[0m\u001b[0;34m\u001b[0m\u001b[0m\n",
      "\u001b[0;32m~/anaconda2/envs/py35/lib/python3.5/site-packages/xgboost/core.py\u001b[0m in \u001b[0;36m_validate_features\u001b[0;34m(self, data)\u001b[0m\n\u001b[1;32m   1177\u001b[0m \u001b[0;34m\u001b[0m\u001b[0m\n\u001b[1;32m   1178\u001b[0m                 raise ValueError(msg.format(self.feature_names,\n\u001b[0;32m-> 1179\u001b[0;31m                                             data.feature_names))\n\u001b[0m\u001b[1;32m   1180\u001b[0m \u001b[0;34m\u001b[0m\u001b[0m\n\u001b[1;32m   1181\u001b[0m     \u001b[0;32mdef\u001b[0m \u001b[0mget_split_value_histogram\u001b[0m\u001b[0;34m(\u001b[0m\u001b[0mself\u001b[0m\u001b[0;34m,\u001b[0m \u001b[0mfeature\u001b[0m\u001b[0;34m,\u001b[0m \u001b[0mfmap\u001b[0m\u001b[0;34m=\u001b[0m\u001b[0;34m''\u001b[0m\u001b[0;34m,\u001b[0m \u001b[0mbins\u001b[0m\u001b[0;34m=\u001b[0m\u001b[0;32mNone\u001b[0m\u001b[0;34m,\u001b[0m \u001b[0mas_pandas\u001b[0m\u001b[0;34m=\u001b[0m\u001b[0;32mTrue\u001b[0m\u001b[0;34m)\u001b[0m\u001b[0;34m:\u001b[0m\u001b[0;34m\u001b[0m\u001b[0m\n",
      "\u001b[0;31mValueError\u001b[0m: feature_names mismatch: ['goal', 'disable_communication', 'backers_count', 'state-dead', 'dead-create', 'dead-launch', 'state-create', 'state-launch', 'launch-create'] ['goal', 'disable_communication', 'state-dead', 'dead-create', 'dead-launch', 'state-create', 'state-launch', 'launch-create']\nexpected backers_count in input data"
     ]
    }
   ],
   "source": [
    "predictions = xgb_clf.predict(x_test)"
   ]
  },
  {
   "cell_type": "code",
   "execution_count": 274,
   "metadata": {},
   "outputs": [
    {
     "data": {
      "text/html": [
       "<a href='submissison.csv' target='_blank'>submissison.csv</a><br>"
      ],
      "text/plain": [
       "/home/sparsh/Desktop/Challenges/Data Science Hiring Challenge/Predict project's success/submissison.csv"
      ]
     },
     "execution_count": 274,
     "metadata": {},
     "output_type": "execute_result"
    }
   ],
   "source": [
    "sub = pd.DataFrame({'project_id': pro_id, 'final_status': predictions})\n",
    "filename = 'submissison.csv'\n",
    "sub.to_csv(filename, index=False, columns=['project_id', 'final_status'])\n",
    "FileLink(filename) "
   ]
  },
  {
   "cell_type": "code",
   "execution_count": null,
   "metadata": {},
   "outputs": [],
   "source": [
    "#0.69079 lb only using created features all of them not deleted anyone of them using all of them \n",
    "# xgb_clf = xgb.XGBClassifier(n_estimators=800, seed=1729, max_depth=4)"
   ]
  },
  {
   "cell_type": "code",
   "execution_count": 361,
   "metadata": {},
   "outputs": [],
   "source": [
    "# from sklearn.cross_validation import train_test_split\n",
    "# from sklearn.metrics import roc_auc_score\n",
    "# from sklearn.ensemble import ExtraTreesClassifier, RandomForestClassifier,VotingClassifier,AdaBoostClassifier,GradientBoostingClassifier\n",
    "# from sklearn.feature_selection import SelectFromModel"
   ]
  },
  {
   "cell_type": "code",
   "execution_count": 362,
   "metadata": {},
   "outputs": [
    {
     "data": {
      "text/plain": [
       "VotingClassifier(estimators=[('ab', AdaBoostClassifier(algorithm='SAMME.R', base_estimator=None,\n",
       "          learning_rate=1.0, n_estimators=600, random_state=5)), ('etc', ExtraTreesClassifier(bootstrap=False, class_weight=None, criterion='gini',\n",
       "           max_depth=4, max_features='auto', max_leaf_nodes=None,\n",
       "      ...      presort='auto', random_state=None, subsample=1.0, verbose=0,\n",
       "              warm_start=False))],\n",
       "         flatten_transform=None, n_jobs=1, voting='soft',\n",
       "         weights=[1, 1, 1, 1])"
      ]
     },
     "execution_count": 362,
     "metadata": {},
     "output_type": "execute_result"
    }
   ],
   "source": [
    "# ## # Train Model\n",
    "# # classifier from xgboost\n",
    "# clf1 = AdaBoostClassifier(n_estimators=600, random_state=5)\n",
    "# clf2 = ExtraTreesClassifier(n_estimators=600, n_jobs=-1,max_depth=4)\n",
    "# clf3 = xgb.XGBClassifier(n_estimators=600, nthread=-1, max_depth = 4, seed=1729)\n",
    "# clf4 = GradientBoostingClassifier(n_estimators=600,max_depth=5)\n",
    "# eclf = VotingClassifier(estimators=[('ab', clf1), ('etc', clf2), ('xgb', clf3),('gbc', clf4)], weights=[1,1,1,1], voting='soft')\n",
    "# eclf.fit(x_train, y_train)"
   ]
  },
  {
   "cell_type": "code",
   "execution_count": 363,
   "metadata": {},
   "outputs": [
    {
     "data": {
      "text/plain": [
       "0.705620138908156"
      ]
     },
     "execution_count": 363,
     "metadata": {},
     "output_type": "execute_result"
    }
   ],
   "source": [
    "# pred = eclf.predict(x_train)\n",
    "# accuracy_score(y_train, pred)"
   ]
  },
  {
   "cell_type": "code",
   "execution_count": 364,
   "metadata": {},
   "outputs": [],
   "source": [
    "# predictions = eclf.predict(x_test)"
   ]
  },
  {
   "cell_type": "code",
   "execution_count": 365,
   "metadata": {},
   "outputs": [
    {
     "data": {
      "text/html": [
       "<a href='submissison.csv' target='_blank'>submissison.csv</a><br>"
      ],
      "text/plain": [
       "/home/sparsh/Desktop/Challenges/Data Science Hiring Challenge/Predict project's success/submissison.csv"
      ]
     },
     "execution_count": 365,
     "metadata": {},
     "output_type": "execute_result"
    }
   ],
   "source": [
    "# sub = pd.DataFrame({'project_id': pro_id, 'final_status': predictions})\n",
    "# filename = 'submissison.csv'\n",
    "# sub.to_csv(filename, index=False, columns=['project_id', 'final_status'])\n",
    "# FileLink(filename) "
   ]
  },
  {
   "cell_type": "code",
   "execution_count": 374,
   "metadata": {},
   "outputs": [
    {
     "data": {
      "text/html": [
       "<div>\n",
       "<style>\n",
       "    .dataframe thead tr:only-child th {\n",
       "        text-align: right;\n",
       "    }\n",
       "\n",
       "    .dataframe thead th {\n",
       "        text-align: left;\n",
       "    }\n",
       "\n",
       "    .dataframe tbody tr th {\n",
       "        vertical-align: top;\n",
       "    }\n",
       "</style>\n",
       "<table border=\"1\" class=\"dataframe\">\n",
       "  <thead>\n",
       "    <tr style=\"text-align: right;\">\n",
       "      <th></th>\n",
       "      <th>project_id</th>\n",
       "      <th>name</th>\n",
       "      <th>desc</th>\n",
       "      <th>goal</th>\n",
       "      <th>keywords</th>\n",
       "      <th>disable_communication</th>\n",
       "      <th>country</th>\n",
       "      <th>currency</th>\n",
       "      <th>deadline</th>\n",
       "      <th>state_changed_at</th>\n",
       "      <th>created_at</th>\n",
       "      <th>launched_at</th>\n",
       "      <th>backers_count</th>\n",
       "      <th>final_status</th>\n",
       "    </tr>\n",
       "  </thead>\n",
       "  <tbody>\n",
       "    <tr>\n",
       "      <th>0</th>\n",
       "      <td>kkst1451568084</td>\n",
       "      <td>drawing for dollars</td>\n",
       "      <td>I like drawing pictures. and then i color them...</td>\n",
       "      <td>20.0</td>\n",
       "      <td>drawing-for-dollars</td>\n",
       "      <td>False</td>\n",
       "      <td>US</td>\n",
       "      <td>USD</td>\n",
       "      <td>2009-05-03 06:59:59</td>\n",
       "      <td>2009-05-03 07:00:17</td>\n",
       "      <td>2009-04-24 19:15:07</td>\n",
       "      <td>2009-04-24 19:52:03</td>\n",
       "      <td>3</td>\n",
       "      <td>1</td>\n",
       "    </tr>\n",
       "    <tr>\n",
       "      <th>1</th>\n",
       "      <td>kkst1474482071</td>\n",
       "      <td>Sponsor Dereck Blackburn (Lostwars) Artist in ...</td>\n",
       "      <td>I, Dereck Blackburn will be taking upon an inc...</td>\n",
       "      <td>300.0</td>\n",
       "      <td>sponsor-dereck-blackburn-lostwars-artist-in-re...</td>\n",
       "      <td>False</td>\n",
       "      <td>US</td>\n",
       "      <td>USD</td>\n",
       "      <td>2009-05-15 23:10:00</td>\n",
       "      <td>2009-05-16 00:00:18</td>\n",
       "      <td>2009-04-28 23:10:24</td>\n",
       "      <td>2009-04-29 03:26:32</td>\n",
       "      <td>2</td>\n",
       "      <td>0</td>\n",
       "    </tr>\n",
       "    <tr>\n",
       "      <th>2</th>\n",
       "      <td>kkst183622197</td>\n",
       "      <td>Mr. Squiggles</td>\n",
       "      <td>So I saw darkpony's successfully funded drawin...</td>\n",
       "      <td>30.0</td>\n",
       "      <td>mr-squiggles</td>\n",
       "      <td>False</td>\n",
       "      <td>US</td>\n",
       "      <td>USD</td>\n",
       "      <td>2009-05-22 21:26:00</td>\n",
       "      <td>2009-05-22 21:30:18</td>\n",
       "      <td>2009-05-12 21:26:53</td>\n",
       "      <td>2009-05-12 21:39:58</td>\n",
       "      <td>0</td>\n",
       "      <td>0</td>\n",
       "    </tr>\n",
       "    <tr>\n",
       "      <th>3</th>\n",
       "      <td>kkst597742710</td>\n",
       "      <td>Help me write my second novel.</td>\n",
       "      <td>Do your part to help out starving artists and ...</td>\n",
       "      <td>500.0</td>\n",
       "      <td>help-me-write-my-second-novel</td>\n",
       "      <td>False</td>\n",
       "      <td>US</td>\n",
       "      <td>USD</td>\n",
       "      <td>2009-05-29 00:09:00</td>\n",
       "      <td>2009-05-29 00:15:21</td>\n",
       "      <td>2009-04-29 00:09:55</td>\n",
       "      <td>2009-04-29 00:58:50</td>\n",
       "      <td>18</td>\n",
       "      <td>1</td>\n",
       "    </tr>\n",
       "    <tr>\n",
       "      <th>4</th>\n",
       "      <td>kkst1913131122</td>\n",
       "      <td>Support casting my sculpture in bronze</td>\n",
       "      <td>I'm nearing completion on a sculpture, current...</td>\n",
       "      <td>2000.0</td>\n",
       "      <td>support-casting-my-sculpture-in-bronze</td>\n",
       "      <td>False</td>\n",
       "      <td>US</td>\n",
       "      <td>USD</td>\n",
       "      <td>2009-05-31 11:38:00</td>\n",
       "      <td>2009-05-31 11:45:17</td>\n",
       "      <td>2009-05-01 11:38:34</td>\n",
       "      <td>2009-05-01 12:22:21</td>\n",
       "      <td>1</td>\n",
       "      <td>0</td>\n",
       "    </tr>\n",
       "  </tbody>\n",
       "</table>\n",
       "</div>"
      ],
      "text/plain": [
       "       project_id                                               name  \\\n",
       "0  kkst1451568084                                drawing for dollars   \n",
       "1  kkst1474482071  Sponsor Dereck Blackburn (Lostwars) Artist in ...   \n",
       "2   kkst183622197                                      Mr. Squiggles   \n",
       "3   kkst597742710                     Help me write my second novel.   \n",
       "4  kkst1913131122             Support casting my sculpture in bronze   \n",
       "\n",
       "                                                desc    goal  \\\n",
       "0  I like drawing pictures. and then i color them...    20.0   \n",
       "1  I, Dereck Blackburn will be taking upon an inc...   300.0   \n",
       "2  So I saw darkpony's successfully funded drawin...    30.0   \n",
       "3  Do your part to help out starving artists and ...   500.0   \n",
       "4  I'm nearing completion on a sculpture, current...  2000.0   \n",
       "\n",
       "                                            keywords  disable_communication  \\\n",
       "0                                drawing-for-dollars                  False   \n",
       "1  sponsor-dereck-blackburn-lostwars-artist-in-re...                  False   \n",
       "2                                       mr-squiggles                  False   \n",
       "3                      help-me-write-my-second-novel                  False   \n",
       "4             support-casting-my-sculpture-in-bronze                  False   \n",
       "\n",
       "  country currency            deadline    state_changed_at  \\\n",
       "0      US      USD 2009-05-03 06:59:59 2009-05-03 07:00:17   \n",
       "1      US      USD 2009-05-15 23:10:00 2009-05-16 00:00:18   \n",
       "2      US      USD 2009-05-22 21:26:00 2009-05-22 21:30:18   \n",
       "3      US      USD 2009-05-29 00:09:00 2009-05-29 00:15:21   \n",
       "4      US      USD 2009-05-31 11:38:00 2009-05-31 11:45:17   \n",
       "\n",
       "           created_at         launched_at  backers_count  final_status  \n",
       "0 2009-04-24 19:15:07 2009-04-24 19:52:03              3             1  \n",
       "1 2009-04-28 23:10:24 2009-04-29 03:26:32              2             0  \n",
       "2 2009-05-12 21:26:53 2009-05-12 21:39:58              0             0  \n",
       "3 2009-04-29 00:09:55 2009-04-29 00:58:50             18             1  \n",
       "4 2009-05-01 11:38:34 2009-05-01 12:22:21              1             0  "
      ]
     },
     "execution_count": 374,
     "metadata": {},
     "output_type": "execute_result"
    }
   ],
   "source": [
    "TrainData.head()"
   ]
  },
  {
   "cell_type": "code",
   "execution_count": 381,
   "metadata": {},
   "outputs": [
    {
     "data": {
      "text/html": [
       "<div>\n",
       "<style>\n",
       "    .dataframe thead tr:only-child th {\n",
       "        text-align: right;\n",
       "    }\n",
       "\n",
       "    .dataframe thead th {\n",
       "        text-align: left;\n",
       "    }\n",
       "\n",
       "    .dataframe tbody tr th {\n",
       "        vertical-align: top;\n",
       "    }\n",
       "</style>\n",
       "<table border=\"1\" class=\"dataframe\">\n",
       "  <thead>\n",
       "    <tr style=\"text-align: right;\">\n",
       "      <th></th>\n",
       "      <th>goal</th>\n",
       "      <th>disable_communication</th>\n",
       "      <th>state-dead</th>\n",
       "      <th>dead-create</th>\n",
       "      <th>dead-launch</th>\n",
       "      <th>state-create</th>\n",
       "      <th>state-launch</th>\n",
       "      <th>launch-create</th>\n",
       "    </tr>\n",
       "  </thead>\n",
       "  <tbody>\n",
       "    <tr>\n",
       "      <th>0</th>\n",
       "      <td>20.0</td>\n",
       "      <td>False</td>\n",
       "      <td>0.0</td>\n",
       "      <td>203.0</td>\n",
       "      <td>203.0</td>\n",
       "      <td>203.0</td>\n",
       "      <td>203.0</td>\n",
       "      <td>0.0</td>\n",
       "    </tr>\n",
       "    <tr>\n",
       "      <th>1</th>\n",
       "      <td>300.0</td>\n",
       "      <td>False</td>\n",
       "      <td>0.0</td>\n",
       "      <td>407.0</td>\n",
       "      <td>403.0</td>\n",
       "      <td>408.0</td>\n",
       "      <td>404.0</td>\n",
       "      <td>4.0</td>\n",
       "    </tr>\n",
       "  </tbody>\n",
       "</table>\n",
       "</div>"
      ],
      "text/plain": [
       "    goal  disable_communication  state-dead  dead-create  dead-launch  \\\n",
       "0   20.0                  False         0.0        203.0        203.0   \n",
       "1  300.0                  False         0.0        407.0        403.0   \n",
       "\n",
       "   state-create  state-launch  launch-create  \n",
       "0         203.0         203.0            0.0  \n",
       "1         408.0         404.0            4.0  "
      ]
     },
     "execution_count": 381,
     "metadata": {},
     "output_type": "execute_result"
    }
   ],
   "source": [
    "x_train.head(2)"
   ]
  },
  {
   "cell_type": "code",
   "execution_count": 387,
   "metadata": {},
   "outputs": [
    {
     "data": {
      "image/png": "[encoded data removed]",
      "text/plain": [
       "<matplotlib.figure.Figure at 0x7f8f60b287b8>"
      ]
     },
     "metadata": {},
     "output_type": "display_data"
    }
   ],
   "source": [
    "plt.plot(x_train['goal'])\n",
    "plt.show()"
   ]
  },
  {
   "cell_type": "code",
   "execution_count": 412,
   "metadata": {},
   "outputs": [
    {
     "data": {
      "text/plain": [
       "5814      0\n",
       "6296      0\n",
       "7872      0\n",
       "8292      0\n",
       "8981      0\n",
       "10078     0\n",
       "10080     0\n",
       "10450     0\n",
       "11528     0\n",
       "11770     0\n",
       "18433     0\n",
       "24784     0\n",
       "26594     0\n",
       "26708     0\n",
       "27518     0\n",
       "29359     0\n",
       "32559     0\n",
       "35825     0\n",
       "35928     0\n",
       "42508     0\n",
       "43344     0\n",
       "47995     0\n",
       "49530     0\n",
       "50059     0\n",
       "59462     0\n",
       "62925     0\n",
       "63108     0\n",
       "63707     0\n",
       "64415     0\n",
       "64437     0\n",
       "         ..\n",
       "104467    0\n",
       "104506    0\n",
       "104512    0\n",
       "104519    0\n",
       "104556    0\n",
       "104638    0\n",
       "104646    0\n",
       "105185    0\n",
       "105260    0\n",
       "105429    0\n",
       "105465    0\n",
       "105547    0\n",
       "105597    0\n",
       "105661    0\n",
       "106024    0\n",
       "106452    0\n",
       "106479    0\n",
       "106744    0\n",
       "106936    0\n",
       "107060    0\n",
       "107182    0\n",
       "107212    0\n",
       "107325    0\n",
       "107374    0\n",
       "107504    0\n",
       "107615    0\n",
       "107622    0\n",
       "107742    0\n",
       "107869    0\n",
       "108040    0\n",
       "Name: final_status, Length: 323, dtype: int64"
      ]
     },
     "execution_count": 412,
     "metadata": {},
     "output_type": "execute_result"
    }
   ],
   "source": [
    "y_train[x_train['disable_communication'] == True ]"
   ]
  },
  {
   "cell_type": "code",
   "execution_count": 388,
   "metadata": {},
   "outputs": [
    {
     "data": {
      "text/plain": [
       "0    73568\n",
       "1    34561\n",
       "Name: final_status, dtype: int64"
      ]
     },
     "execution_count": 388,
     "metadata": {},
     "output_type": "execute_result"
    }
   ],
   "source": [
    "y_train.value_counts()"
   ]
  },
  {
   "cell_type": "code",
   "execution_count": 394,
   "metadata": {},
   "outputs": [],
   "source": [
    "x = x_train[y_train == 1]"
   ]
  },
  {
   "cell_type": "code",
   "execution_count": 420,
   "metadata": {},
   "outputs": [
    {
     "data": {
      "image/png": "[encoded data removed]",
      "text/plain": [
       "<matplotlib.figure.Figure at 0x7f8f5b2d9710>"
      ]
     },
     "metadata": {},
     "output_type": "display_data"
    }
   ],
   "source": [
    "plt.figure(figsize= (15,5))\n",
    "plt.plot(range(x_train.shape[0]),np.log(x_train['goal']))\n",
    "plt.show()"
   ]
  },
  {
   "cell_type": "code",
   "execution_count": 421,
   "metadata": {},
   "outputs": [
    {
     "data": {
      "image/png": "[encoded data removed]",
      "text/plain": [
       "<matplotlib.figure.Figure at 0x7f8f5aa01e80>"
      ]
     },
     "metadata": {},
     "output_type": "display_data"
    }
   ],
   "source": [
    "plt.figure(figsize= (15,5))\n",
    "plt.plot(range(x_test.shape[0]),np.log(x_test['goal']))\n",
    "plt.show()"
   ]
  },
  {
   "cell_type": "code",
   "execution_count": 501,
   "metadata": {},
   "outputs": [
    {
     "data": {
      "text/html": [
       "<div>\n",
       "<style>\n",
       "    .dataframe thead tr:only-child th {\n",
       "        text-align: right;\n",
       "    }\n",
       "\n",
       "    .dataframe thead th {\n",
       "        text-align: left;\n",
       "    }\n",
       "\n",
       "    .dataframe tbody tr th {\n",
       "        vertical-align: top;\n",
       "    }\n",
       "</style>\n",
       "<table border=\"1\" class=\"dataframe\">\n",
       "  <thead>\n",
       "    <tr style=\"text-align: right;\">\n",
       "      <th></th>\n",
       "      <th>goal</th>\n",
       "      <th>disable_communication</th>\n",
       "      <th>state-dead</th>\n",
       "      <th>dead-create</th>\n",
       "      <th>dead-launch</th>\n",
       "      <th>state-create</th>\n",
       "      <th>state-launch</th>\n",
       "      <th>launch-create</th>\n",
       "    </tr>\n",
       "  </thead>\n",
       "  <tbody>\n",
       "    <tr>\n",
       "      <th>317</th>\n",
       "      <td>0.01</td>\n",
       "      <td>False</td>\n",
       "      <td>0.0</td>\n",
       "      <td>215.0</td>\n",
       "      <td>215.0</td>\n",
       "      <td>216.0</td>\n",
       "      <td>215.0</td>\n",
       "      <td>0.0</td>\n",
       "    </tr>\n",
       "  </tbody>\n",
       "</table>\n",
       "</div>"
      ],
      "text/plain": [
       "     goal  disable_communication  state-dead  dead-create  dead-launch  \\\n",
       "317  0.01                  False         0.0        215.0        215.0   \n",
       "\n",
       "     state-create  state-launch  launch-create  \n",
       "317         216.0         215.0            0.0  "
      ]
     },
     "execution_count": 501,
     "metadata": {},
     "output_type": "execute_result"
    }
   ],
   "source": [
    "x_train[np.log(x_train['goal']) < 0]"
   ]
  },
  {
   "cell_type": "code",
   "execution_count": 503,
   "metadata": {},
   "outputs": [
    {
     "data": {
      "text/plain": [
       "317    1\n",
       "Name: final_status, dtype: int64"
      ]
     },
     "execution_count": 503,
     "metadata": {},
     "output_type": "execute_result"
    }
   ],
   "source": [
    "y_train[np.log(x_train['goal']) < 0]"
   ]
  },
  {
   "cell_type": "code",
   "execution_count": 443,
   "metadata": {},
   "outputs": [
    {
     "data": {
      "text/html": [
       "<div>\n",
       "<style>\n",
       "    .dataframe thead tr:only-child th {\n",
       "        text-align: right;\n",
       "    }\n",
       "\n",
       "    .dataframe thead th {\n",
       "        text-align: left;\n",
       "    }\n",
       "\n",
       "    .dataframe tbody tr th {\n",
       "        vertical-align: top;\n",
       "    }\n",
       "</style>\n",
       "<table border=\"1\" class=\"dataframe\">\n",
       "  <thead>\n",
       "    <tr style=\"text-align: right;\">\n",
       "      <th></th>\n",
       "      <th>goal</th>\n",
       "      <th>disable_communication</th>\n",
       "      <th>state-dead</th>\n",
       "      <th>dead-create</th>\n",
       "      <th>dead-launch</th>\n",
       "      <th>state-create</th>\n",
       "      <th>state-launch</th>\n",
       "      <th>launch-create</th>\n",
       "    </tr>\n",
       "  </thead>\n",
       "  <tbody>\n",
       "  </tbody>\n",
       "</table>\n",
       "</div>"
      ],
      "text/plain": [
       "Empty DataFrame\n",
       "Columns: [goal, disable_communication, state-dead, dead-create, dead-launch, state-create, state-launch, launch-create]\n",
       "Index: []"
      ]
     },
     "execution_count": 443,
     "metadata": {},
     "output_type": "execute_result"
    }
   ],
   "source": [
    "x_test[np.log(x_test['goal']) < 0]"
   ]
  },
  {
   "cell_type": "code",
   "execution_count": 504,
   "metadata": {},
   "outputs": [],
   "source": [
    "y_train = y_train[np.log(x_train['goal']) >= 0]"
   ]
  },
  {
   "cell_type": "code",
   "execution_count": 505,
   "metadata": {},
   "outputs": [],
   "source": [
    "x_train = x_train[np.log(x_train['goal']) >= 0]"
   ]
  },
  {
   "cell_type": "code",
   "execution_count": 506,
   "metadata": {},
   "outputs": [
    {
     "data": {
      "text/plain": [
       "(108128, 8)"
      ]
     },
     "execution_count": 506,
     "metadata": {},
     "output_type": "execute_result"
    }
   ],
   "source": [
    "x_train.shape"
   ]
  },
  {
   "cell_type": "code",
   "execution_count": 507,
   "metadata": {},
   "outputs": [
    {
     "data": {
      "text/plain": [
       "(108128,)"
      ]
     },
     "execution_count": 507,
     "metadata": {},
     "output_type": "execute_result"
    }
   ],
   "source": [
    "y_train.shape"
   ]
  },
  {
   "cell_type": "code",
   "execution_count": null,
   "metadata": {},
   "outputs": [],
   "source": []
  },
  {
   "cell_type": "code",
   "execution_count": null,
   "metadata": {},
   "outputs": [],
   "source": []
  },
  {
   "cell_type": "code",
   "execution_count": null,
   "metadata": {},
   "outputs": [],
   "source": []
  },
  {
   "cell_type": "code",
   "execution_count": 78,
   "metadata": {},
   "outputs": [
    {
     "data": {
      "image/png": "[encoded data removed]",
      "text/plain": [
       "<matplotlib.figure.Figure at 0x7f3e26489080>"
      ]
     },
     "metadata": {},
     "output_type": "display_data"
    }
   ],
   "source": [
    "plt.plot((TestData['project_id'].str[4:].astype(float)))\n",
    "plt.show()"
   ]
  },
  {
   "cell_type": "code",
   "execution_count": 79,
   "metadata": {},
   "outputs": [
    {
     "data": {
      "text/plain": [
       "0        9.174937e+08\n",
       "1        1.664902e+09\n",
       "2        9.251251e+08\n",
       "3        1.427645e+09\n",
       "4        1.714249e+09\n",
       "5        9.947443e+08\n",
       "6        3.664718e+08\n",
       "7        1.686645e+09\n",
       "8        1.009612e+09\n",
       "9        7.749472e+08\n",
       "10       7.517366e+08\n",
       "11       5.464871e+08\n",
       "12       1.841856e+08\n",
       "13       1.473771e+07\n",
       "14       1.709731e+09\n",
       "15       6.773109e+08\n",
       "16       2.017864e+09\n",
       "17       2.630538e+08\n",
       "18       5.153657e+08\n",
       "19       1.399418e+09\n",
       "20       1.923573e+09\n",
       "21       1.835524e+09\n",
       "22       6.913134e+08\n",
       "23       1.801491e+09\n",
       "24       1.370170e+09\n",
       "25       6.968095e+07\n",
       "26       6.599135e+07\n",
       "27       5.338948e+08\n",
       "28       1.416439e+09\n",
       "29       1.728612e+09\n",
       "             ...     \n",
       "63435    2.098627e+09\n",
       "63436    1.803682e+09\n",
       "63437    1.944372e+09\n",
       "63438    1.751651e+08\n",
       "63439    1.206848e+09\n",
       "63440    2.053271e+09\n",
       "63441    1.170364e+09\n",
       "63442    1.872083e+09\n",
       "63443    8.681471e+08\n",
       "63444    9.679327e+07\n",
       "63445    2.330408e+08\n",
       "63446    1.927063e+08\n",
       "63447    1.648942e+09\n",
       "63448    4.548551e+08\n",
       "63449    1.847337e+09\n",
       "63450    1.970590e+09\n",
       "63451    1.997993e+09\n",
       "63452    1.515007e+08\n",
       "63453    1.852942e+09\n",
       "63454    1.935566e+08\n",
       "63455    2.101292e+09\n",
       "63456    1.986637e+09\n",
       "63457    6.015594e+08\n",
       "63458    1.220293e+09\n",
       "63459    1.908034e+09\n",
       "63460    5.381218e+08\n",
       "63461    1.927608e+09\n",
       "63462    6.882132e+07\n",
       "63463    6.657713e+08\n",
       "63464    1.164902e+09\n",
       "Name: project_id, Length: 63465, dtype: float64"
      ]
     },
     "execution_count": 79,
     "metadata": {},
     "output_type": "execute_result"
    }
   ],
   "source": [
    "TestData['project_id'].str[4:].astype(float)"
   ]
  },
  {
   "cell_type": "code",
   "execution_count": 100,
   "metadata": {},
   "outputs": [
    {
     "data": {
      "text/html": [
       "<div>\n",
       "<style>\n",
       "    .dataframe thead tr:only-child th {\n",
       "        text-align: right;\n",
       "    }\n",
       "\n",
       "    .dataframe thead th {\n",
       "        text-align: left;\n",
       "    }\n",
       "\n",
       "    .dataframe tbody tr th {\n",
       "        vertical-align: top;\n",
       "    }\n",
       "</style>\n",
       "<table border=\"1\" class=\"dataframe\">\n",
       "  <thead>\n",
       "    <tr style=\"text-align: right;\">\n",
       "      <th></th>\n",
       "      <th>goal</th>\n",
       "      <th>disable_communication</th>\n",
       "      <th>backers_count</th>\n",
       "      <th>state-dead</th>\n",
       "      <th>dead-create</th>\n",
       "      <th>dead-launch</th>\n",
       "      <th>state-create</th>\n",
       "      <th>state-launch</th>\n",
       "      <th>launch-create</th>\n",
       "    </tr>\n",
       "  </thead>\n",
       "  <tbody>\n",
       "    <tr>\n",
       "      <th>0</th>\n",
       "      <td>20.0</td>\n",
       "      <td>False</td>\n",
       "      <td>3</td>\n",
       "      <td>0.0</td>\n",
       "      <td>203.0</td>\n",
       "      <td>203.0</td>\n",
       "      <td>203.0</td>\n",
       "      <td>203.0</td>\n",
       "      <td>0.0</td>\n",
       "    </tr>\n",
       "    <tr>\n",
       "      <th>1</th>\n",
       "      <td>300.0</td>\n",
       "      <td>False</td>\n",
       "      <td>2</td>\n",
       "      <td>0.0</td>\n",
       "      <td>407.0</td>\n",
       "      <td>403.0</td>\n",
       "      <td>408.0</td>\n",
       "      <td>404.0</td>\n",
       "      <td>4.0</td>\n",
       "    </tr>\n",
       "    <tr>\n",
       "      <th>2</th>\n",
       "      <td>30.0</td>\n",
       "      <td>False</td>\n",
       "      <td>0</td>\n",
       "      <td>0.0</td>\n",
       "      <td>239.0</td>\n",
       "      <td>239.0</td>\n",
       "      <td>240.0</td>\n",
       "      <td>239.0</td>\n",
       "      <td>0.0</td>\n",
       "    </tr>\n",
       "    <tr>\n",
       "      <th>3</th>\n",
       "      <td>500.0</td>\n",
       "      <td>False</td>\n",
       "      <td>18</td>\n",
       "      <td>0.0</td>\n",
       "      <td>719.0</td>\n",
       "      <td>719.0</td>\n",
       "      <td>720.0</td>\n",
       "      <td>719.0</td>\n",
       "      <td>0.0</td>\n",
       "    </tr>\n",
       "    <tr>\n",
       "      <th>4</th>\n",
       "      <td>2000.0</td>\n",
       "      <td>False</td>\n",
       "      <td>1</td>\n",
       "      <td>0.0</td>\n",
       "      <td>719.0</td>\n",
       "      <td>719.0</td>\n",
       "      <td>720.0</td>\n",
       "      <td>719.0</td>\n",
       "      <td>0.0</td>\n",
       "    </tr>\n",
       "  </tbody>\n",
       "</table>\n",
       "</div>"
      ],
      "text/plain": [
       "     goal  disable_communication  backers_count  state-dead  dead-create  \\\n",
       "0    20.0                  False              3         0.0        203.0   \n",
       "1   300.0                  False              2         0.0        407.0   \n",
       "2    30.0                  False              0         0.0        239.0   \n",
       "3   500.0                  False             18         0.0        719.0   \n",
       "4  2000.0                  False              1         0.0        719.0   \n",
       "\n",
       "   dead-launch  state-create  state-launch  launch-create  \n",
       "0        203.0         203.0         203.0            0.0  \n",
       "1        403.0         408.0         404.0            4.0  \n",
       "2        239.0         240.0         239.0            0.0  \n",
       "3        719.0         720.0         719.0            0.0  \n",
       "4        719.0         720.0         719.0            0.0  "
      ]
     },
     "execution_count": 100,
     "metadata": {},
     "output_type": "execute_result"
    }
   ],
   "source": [
    "x_train.head()"
   ]
  },
  {
   "cell_type": "code",
   "execution_count": 102,
   "metadata": {},
   "outputs": [],
   "source": [
    "Y_tr = x_train['backers_count']\n",
    "X_tr = x_train.drop(['backers_count'], axis=1)"
   ]
  },
  {
   "cell_type": "code",
   "execution_count": 136,
   "metadata": {},
   "outputs": [
    {
     "data": {
      "text/plain": [
       "XGBRegressor(base_score=0.5, colsample_bylevel=1, colsample_bytree=1, gamma=0,\n",
       "       learning_rate=0.1, max_delta_step=0, max_depth=4,\n",
       "       min_child_weight=1, missing=None, n_estimators=400, nthread=-1,\n",
       "       objective='reg:linear', reg_alpha=0, reg_lambda=1,\n",
       "       scale_pos_weight=1, seed=1729, silent=True, subsample=1)"
      ]
     },
     "execution_count": 136,
     "metadata": {},
     "output_type": "execute_result"
    }
   ],
   "source": [
    "xgb_reg = xgb.XGBRegressor(n_estimators=400, seed=1729, max_depth=4)\n",
    "xgb_reg.fit(X_tr, Y_tr)"
   ]
  },
  {
   "cell_type": "code",
   "execution_count": 137,
   "metadata": {},
   "outputs": [
    {
     "name": "stdout",
     "output_type": "stream",
     "text": [
      "651.103277993\n"
     ]
    }
   ],
   "source": [
    "from sklearn.metrics import mean_squared_error\n",
    "pred_bac = xgb_reg.predict(X_tr)\n",
    "print(np.sqrt(mean_squared_error(Y_tr, np.round(pred_bac, 0))))"
   ]
  },
  {
   "cell_type": "code",
   "execution_count": 138,
   "metadata": {},
   "outputs": [],
   "source": [
    "X_test = x_test.copy()\n",
    "Y_test = xgb_reg.predict(X_test)"
   ]
  },
  {
   "cell_type": "code",
   "execution_count": 139,
   "metadata": {},
   "outputs": [],
   "source": [
    "X_test['backers_count'] = Y_test"
   ]
  },
  {
   "cell_type": "code",
   "execution_count": 140,
   "metadata": {},
   "outputs": [
    {
     "data": {
      "text/html": [
       "<div>\n",
       "<style>\n",
       "    .dataframe thead tr:only-child th {\n",
       "        text-align: right;\n",
       "    }\n",
       "\n",
       "    .dataframe thead th {\n",
       "        text-align: left;\n",
       "    }\n",
       "\n",
       "    .dataframe tbody tr th {\n",
       "        vertical-align: top;\n",
       "    }\n",
       "</style>\n",
       "<table border=\"1\" class=\"dataframe\">\n",
       "  <thead>\n",
       "    <tr style=\"text-align: right;\">\n",
       "      <th></th>\n",
       "      <th>goal</th>\n",
       "      <th>disable_communication</th>\n",
       "      <th>state-dead</th>\n",
       "      <th>dead-create</th>\n",
       "      <th>dead-launch</th>\n",
       "      <th>state-create</th>\n",
       "      <th>state-launch</th>\n",
       "      <th>launch-create</th>\n",
       "      <th>backers_count</th>\n",
       "    </tr>\n",
       "  </thead>\n",
       "  <tbody>\n",
       "    <tr>\n",
       "      <th>0</th>\n",
       "      <td>7000.0</td>\n",
       "      <td>False</td>\n",
       "      <td>0.0</td>\n",
       "      <td>1004.0</td>\n",
       "      <td>961.0</td>\n",
       "      <td>1004.0</td>\n",
       "      <td>961.0</td>\n",
       "      <td>43.0</td>\n",
       "      <td>63.792049</td>\n",
       "    </tr>\n",
       "    <tr>\n",
       "      <th>1</th>\n",
       "      <td>35000.0</td>\n",
       "      <td>False</td>\n",
       "      <td>0.0</td>\n",
       "      <td>871.0</td>\n",
       "      <td>840.0</td>\n",
       "      <td>871.0</td>\n",
       "      <td>840.0</td>\n",
       "      <td>31.0</td>\n",
       "      <td>124.171104</td>\n",
       "    </tr>\n",
       "    <tr>\n",
       "      <th>2</th>\n",
       "      <td>49500.0</td>\n",
       "      <td>False</td>\n",
       "      <td>0.0</td>\n",
       "      <td>888.0</td>\n",
       "      <td>863.0</td>\n",
       "      <td>888.0</td>\n",
       "      <td>863.0</td>\n",
       "      <td>25.0</td>\n",
       "      <td>141.916428</td>\n",
       "    </tr>\n",
       "    <tr>\n",
       "      <th>3</th>\n",
       "      <td>40000.0</td>\n",
       "      <td>False</td>\n",
       "      <td>0.0</td>\n",
       "      <td>1126.0</td>\n",
       "      <td>720.0</td>\n",
       "      <td>1126.0</td>\n",
       "      <td>720.0</td>\n",
       "      <td>406.0</td>\n",
       "      <td>354.897217</td>\n",
       "    </tr>\n",
       "    <tr>\n",
       "      <th>4</th>\n",
       "      <td>20000.0</td>\n",
       "      <td>False</td>\n",
       "      <td>0.0</td>\n",
       "      <td>1750.0</td>\n",
       "      <td>1037.0</td>\n",
       "      <td>1750.0</td>\n",
       "      <td>1037.0</td>\n",
       "      <td>713.0</td>\n",
       "      <td>236.542160</td>\n",
       "    </tr>\n",
       "  </tbody>\n",
       "</table>\n",
       "</div>"
      ],
      "text/plain": [
       "      goal  disable_communication  state-dead  dead-create  dead-launch  \\\n",
       "0   7000.0                  False         0.0       1004.0        961.0   \n",
       "1  35000.0                  False         0.0        871.0        840.0   \n",
       "2  49500.0                  False         0.0        888.0        863.0   \n",
       "3  40000.0                  False         0.0       1126.0        720.0   \n",
       "4  20000.0                  False         0.0       1750.0       1037.0   \n",
       "\n",
       "   state-create  state-launch  launch-create  backers_count  \n",
       "0        1004.0         961.0           43.0      63.792049  \n",
       "1         871.0         840.0           31.0     124.171104  \n",
       "2         888.0         863.0           25.0     141.916428  \n",
       "3        1126.0         720.0          406.0     354.897217  \n",
       "4        1750.0        1037.0          713.0     236.542160  "
      ]
     },
     "execution_count": 140,
     "metadata": {},
     "output_type": "execute_result"
    }
   ],
   "source": [
    "X_test.head()"
   ]
  },
  {
   "cell_type": "code",
   "execution_count": 141,
   "metadata": {},
   "outputs": [
    {
     "data": {
      "text/html": [
       "<div>\n",
       "<style>\n",
       "    .dataframe thead tr:only-child th {\n",
       "        text-align: right;\n",
       "    }\n",
       "\n",
       "    .dataframe thead th {\n",
       "        text-align: left;\n",
       "    }\n",
       "\n",
       "    .dataframe tbody tr th {\n",
       "        vertical-align: top;\n",
       "    }\n",
       "</style>\n",
       "<table border=\"1\" class=\"dataframe\">\n",
       "  <thead>\n",
       "    <tr style=\"text-align: right;\">\n",
       "      <th></th>\n",
       "      <th>goal</th>\n",
       "      <th>disable_communication</th>\n",
       "      <th>backers_count</th>\n",
       "      <th>state-dead</th>\n",
       "      <th>dead-create</th>\n",
       "      <th>dead-launch</th>\n",
       "      <th>state-create</th>\n",
       "      <th>state-launch</th>\n",
       "      <th>launch-create</th>\n",
       "    </tr>\n",
       "  </thead>\n",
       "  <tbody>\n",
       "    <tr>\n",
       "      <th>0</th>\n",
       "      <td>20.0</td>\n",
       "      <td>False</td>\n",
       "      <td>3</td>\n",
       "      <td>0.0</td>\n",
       "      <td>203.0</td>\n",
       "      <td>203.0</td>\n",
       "      <td>203.0</td>\n",
       "      <td>203.0</td>\n",
       "      <td>0.0</td>\n",
       "    </tr>\n",
       "    <tr>\n",
       "      <th>1</th>\n",
       "      <td>300.0</td>\n",
       "      <td>False</td>\n",
       "      <td>2</td>\n",
       "      <td>0.0</td>\n",
       "      <td>407.0</td>\n",
       "      <td>403.0</td>\n",
       "      <td>408.0</td>\n",
       "      <td>404.0</td>\n",
       "      <td>4.0</td>\n",
       "    </tr>\n",
       "    <tr>\n",
       "      <th>2</th>\n",
       "      <td>30.0</td>\n",
       "      <td>False</td>\n",
       "      <td>0</td>\n",
       "      <td>0.0</td>\n",
       "      <td>239.0</td>\n",
       "      <td>239.0</td>\n",
       "      <td>240.0</td>\n",
       "      <td>239.0</td>\n",
       "      <td>0.0</td>\n",
       "    </tr>\n",
       "    <tr>\n",
       "      <th>3</th>\n",
       "      <td>500.0</td>\n",
       "      <td>False</td>\n",
       "      <td>18</td>\n",
       "      <td>0.0</td>\n",
       "      <td>719.0</td>\n",
       "      <td>719.0</td>\n",
       "      <td>720.0</td>\n",
       "      <td>719.0</td>\n",
       "      <td>0.0</td>\n",
       "    </tr>\n",
       "    <tr>\n",
       "      <th>4</th>\n",
       "      <td>2000.0</td>\n",
       "      <td>False</td>\n",
       "      <td>1</td>\n",
       "      <td>0.0</td>\n",
       "      <td>719.0</td>\n",
       "      <td>719.0</td>\n",
       "      <td>720.0</td>\n",
       "      <td>719.0</td>\n",
       "      <td>0.0</td>\n",
       "    </tr>\n",
       "  </tbody>\n",
       "</table>\n",
       "</div>"
      ],
      "text/plain": [
       "     goal  disable_communication  backers_count  state-dead  dead-create  \\\n",
       "0    20.0                  False              3         0.0        203.0   \n",
       "1   300.0                  False              2         0.0        407.0   \n",
       "2    30.0                  False              0         0.0        239.0   \n",
       "3   500.0                  False             18         0.0        719.0   \n",
       "4  2000.0                  False              1         0.0        719.0   \n",
       "\n",
       "   dead-launch  state-create  state-launch  launch-create  \n",
       "0        203.0         203.0         203.0            0.0  \n",
       "1        403.0         408.0         404.0            4.0  \n",
       "2        239.0         240.0         239.0            0.0  \n",
       "3        719.0         720.0         719.0            0.0  \n",
       "4        719.0         720.0         719.0            0.0  "
      ]
     },
     "execution_count": 141,
     "metadata": {},
     "output_type": "execute_result"
    }
   ],
   "source": [
    "x_train.head()"
   ]
  },
  {
   "cell_type": "code",
   "execution_count": 142,
   "metadata": {},
   "outputs": [],
   "source": [
    "X_test = X_test[x_train.columns]"
   ]
  },
  {
   "cell_type": "code",
   "execution_count": 143,
   "metadata": {},
   "outputs": [
    {
     "data": {
      "text/html": [
       "<div>\n",
       "<style>\n",
       "    .dataframe thead tr:only-child th {\n",
       "        text-align: right;\n",
       "    }\n",
       "\n",
       "    .dataframe thead th {\n",
       "        text-align: left;\n",
       "    }\n",
       "\n",
       "    .dataframe tbody tr th {\n",
       "        vertical-align: top;\n",
       "    }\n",
       "</style>\n",
       "<table border=\"1\" class=\"dataframe\">\n",
       "  <thead>\n",
       "    <tr style=\"text-align: right;\">\n",
       "      <th></th>\n",
       "      <th>goal</th>\n",
       "      <th>disable_communication</th>\n",
       "      <th>backers_count</th>\n",
       "      <th>state-dead</th>\n",
       "      <th>dead-create</th>\n",
       "      <th>dead-launch</th>\n",
       "      <th>state-create</th>\n",
       "      <th>state-launch</th>\n",
       "      <th>launch-create</th>\n",
       "    </tr>\n",
       "  </thead>\n",
       "  <tbody>\n",
       "    <tr>\n",
       "      <th>0</th>\n",
       "      <td>7000.0</td>\n",
       "      <td>False</td>\n",
       "      <td>63.792049</td>\n",
       "      <td>0.0</td>\n",
       "      <td>1004.0</td>\n",
       "      <td>961.0</td>\n",
       "      <td>1004.0</td>\n",
       "      <td>961.0</td>\n",
       "      <td>43.0</td>\n",
       "    </tr>\n",
       "    <tr>\n",
       "      <th>1</th>\n",
       "      <td>35000.0</td>\n",
       "      <td>False</td>\n",
       "      <td>124.171104</td>\n",
       "      <td>0.0</td>\n",
       "      <td>871.0</td>\n",
       "      <td>840.0</td>\n",
       "      <td>871.0</td>\n",
       "      <td>840.0</td>\n",
       "      <td>31.0</td>\n",
       "    </tr>\n",
       "    <tr>\n",
       "      <th>2</th>\n",
       "      <td>49500.0</td>\n",
       "      <td>False</td>\n",
       "      <td>141.916428</td>\n",
       "      <td>0.0</td>\n",
       "      <td>888.0</td>\n",
       "      <td>863.0</td>\n",
       "      <td>888.0</td>\n",
       "      <td>863.0</td>\n",
       "      <td>25.0</td>\n",
       "    </tr>\n",
       "    <tr>\n",
       "      <th>3</th>\n",
       "      <td>40000.0</td>\n",
       "      <td>False</td>\n",
       "      <td>354.897217</td>\n",
       "      <td>0.0</td>\n",
       "      <td>1126.0</td>\n",
       "      <td>720.0</td>\n",
       "      <td>1126.0</td>\n",
       "      <td>720.0</td>\n",
       "      <td>406.0</td>\n",
       "    </tr>\n",
       "    <tr>\n",
       "      <th>4</th>\n",
       "      <td>20000.0</td>\n",
       "      <td>False</td>\n",
       "      <td>236.542160</td>\n",
       "      <td>0.0</td>\n",
       "      <td>1750.0</td>\n",
       "      <td>1037.0</td>\n",
       "      <td>1750.0</td>\n",
       "      <td>1037.0</td>\n",
       "      <td>713.0</td>\n",
       "    </tr>\n",
       "  </tbody>\n",
       "</table>\n",
       "</div>"
      ],
      "text/plain": [
       "      goal  disable_communication  backers_count  state-dead  dead-create  \\\n",
       "0   7000.0                  False      63.792049         0.0       1004.0   \n",
       "1  35000.0                  False     124.171104         0.0        871.0   \n",
       "2  49500.0                  False     141.916428         0.0        888.0   \n",
       "3  40000.0                  False     354.897217         0.0       1126.0   \n",
       "4  20000.0                  False     236.542160         0.0       1750.0   \n",
       "\n",
       "   dead-launch  state-create  state-launch  launch-create  \n",
       "0        961.0        1004.0         961.0           43.0  \n",
       "1        840.0         871.0         840.0           31.0  \n",
       "2        863.0         888.0         863.0           25.0  \n",
       "3        720.0        1126.0         720.0          406.0  \n",
       "4       1037.0        1750.0        1037.0          713.0  "
      ]
     },
     "execution_count": 143,
     "metadata": {},
     "output_type": "execute_result"
    }
   ],
   "source": [
    "X_test.head()"
   ]
  },
  {
   "cell_type": "code",
   "execution_count": 144,
   "metadata": {},
   "outputs": [],
   "source": [
    "X_test['backers_count'] = X_test['backers_count'].astype(int)"
   ]
  },
  {
   "cell_type": "code",
   "execution_count": 145,
   "metadata": {},
   "outputs": [
    {
     "data": {
      "text/html": [
       "<div>\n",
       "<style>\n",
       "    .dataframe thead tr:only-child th {\n",
       "        text-align: right;\n",
       "    }\n",
       "\n",
       "    .dataframe thead th {\n",
       "        text-align: left;\n",
       "    }\n",
       "\n",
       "    .dataframe tbody tr th {\n",
       "        vertical-align: top;\n",
       "    }\n",
       "</style>\n",
       "<table border=\"1\" class=\"dataframe\">\n",
       "  <thead>\n",
       "    <tr style=\"text-align: right;\">\n",
       "      <th></th>\n",
       "      <th>goal</th>\n",
       "      <th>disable_communication</th>\n",
       "      <th>backers_count</th>\n",
       "      <th>state-dead</th>\n",
       "      <th>dead-create</th>\n",
       "      <th>dead-launch</th>\n",
       "      <th>state-create</th>\n",
       "      <th>state-launch</th>\n",
       "      <th>launch-create</th>\n",
       "    </tr>\n",
       "  </thead>\n",
       "  <tbody>\n",
       "    <tr>\n",
       "      <th>0</th>\n",
       "      <td>7000.0</td>\n",
       "      <td>False</td>\n",
       "      <td>63</td>\n",
       "      <td>0.0</td>\n",
       "      <td>1004.0</td>\n",
       "      <td>961.0</td>\n",
       "      <td>1004.0</td>\n",
       "      <td>961.0</td>\n",
       "      <td>43.0</td>\n",
       "    </tr>\n",
       "    <tr>\n",
       "      <th>1</th>\n",
       "      <td>35000.0</td>\n",
       "      <td>False</td>\n",
       "      <td>124</td>\n",
       "      <td>0.0</td>\n",
       "      <td>871.0</td>\n",
       "      <td>840.0</td>\n",
       "      <td>871.0</td>\n",
       "      <td>840.0</td>\n",
       "      <td>31.0</td>\n",
       "    </tr>\n",
       "    <tr>\n",
       "      <th>2</th>\n",
       "      <td>49500.0</td>\n",
       "      <td>False</td>\n",
       "      <td>141</td>\n",
       "      <td>0.0</td>\n",
       "      <td>888.0</td>\n",
       "      <td>863.0</td>\n",
       "      <td>888.0</td>\n",
       "      <td>863.0</td>\n",
       "      <td>25.0</td>\n",
       "    </tr>\n",
       "    <tr>\n",
       "      <th>3</th>\n",
       "      <td>40000.0</td>\n",
       "      <td>False</td>\n",
       "      <td>354</td>\n",
       "      <td>0.0</td>\n",
       "      <td>1126.0</td>\n",
       "      <td>720.0</td>\n",
       "      <td>1126.0</td>\n",
       "      <td>720.0</td>\n",
       "      <td>406.0</td>\n",
       "    </tr>\n",
       "    <tr>\n",
       "      <th>4</th>\n",
       "      <td>20000.0</td>\n",
       "      <td>False</td>\n",
       "      <td>236</td>\n",
       "      <td>0.0</td>\n",
       "      <td>1750.0</td>\n",
       "      <td>1037.0</td>\n",
       "      <td>1750.0</td>\n",
       "      <td>1037.0</td>\n",
       "      <td>713.0</td>\n",
       "    </tr>\n",
       "  </tbody>\n",
       "</table>\n",
       "</div>"
      ],
      "text/plain": [
       "      goal  disable_communication  backers_count  state-dead  dead-create  \\\n",
       "0   7000.0                  False             63         0.0       1004.0   \n",
       "1  35000.0                  False            124         0.0        871.0   \n",
       "2  49500.0                  False            141         0.0        888.0   \n",
       "3  40000.0                  False            354         0.0       1126.0   \n",
       "4  20000.0                  False            236         0.0       1750.0   \n",
       "\n",
       "   dead-launch  state-create  state-launch  launch-create  \n",
       "0        961.0        1004.0         961.0           43.0  \n",
       "1        840.0         871.0         840.0           31.0  \n",
       "2        863.0         888.0         863.0           25.0  \n",
       "3        720.0        1126.0         720.0          406.0  \n",
       "4       1037.0        1750.0        1037.0          713.0  "
      ]
     },
     "execution_count": 145,
     "metadata": {},
     "output_type": "execute_result"
    }
   ],
   "source": [
    "X_test.head()"
   ]
  },
  {
   "cell_type": "code",
   "execution_count": 146,
   "metadata": {},
   "outputs": [
    {
     "data": {
      "text/plain": [
       "0.8885682841790824"
      ]
     },
     "execution_count": 146,
     "metadata": {},
     "output_type": "execute_result"
    }
   ],
   "source": [
    "xgb_clf = xgb.XGBClassifier(n_estimators=800, seed=1729, max_depth=4)\n",
    "xgb_clf.fit(x_train, y_train)\n",
    "pred = xgb_clf.predict(x_train)\n",
    "accuracy_score(y_train, pred)"
   ]
  },
  {
   "cell_type": "code",
   "execution_count": 147,
   "metadata": {},
   "outputs": [
    {
     "data": {
      "text/plain": [
       "<matplotlib.axes._subplots.AxesSubplot at 0x7ff2a4f735c0>"
      ]
     },
     "execution_count": 147,
     "metadata": {},
     "output_type": "execute_result"
    },
    {
     "data": {
      "image/png": "[encoded data removed]",
      "text/plain": [
       "<matplotlib.figure.Figure at 0x7ff2a7ec8400>"
      ]
     },
     "metadata": {},
     "output_type": "display_data"
    }
   ],
   "source": [
    "xgb.plot_importance(xgb_clf)"
   ]
  },
  {
   "cell_type": "code",
   "execution_count": 148,
   "metadata": {},
   "outputs": [],
   "source": [
    "predictions = xgb_clf.predict(X_test)"
   ]
  },
  {
   "cell_type": "code",
   "execution_count": 149,
   "metadata": {},
   "outputs": [
    {
     "data": {
      "text/html": [
       "<a href='submissison.csv' target='_blank'>submissison.csv</a><br>"
      ],
      "text/plain": [
       "/home/sparsh/Desktop/Challenges/Data Science Hiring Challenge/Predict project's success/submissison.csv"
      ]
     },
     "execution_count": 149,
     "metadata": {},
     "output_type": "execute_result"
    }
   ],
   "source": [
    "sub = pd.DataFrame({'project_id': pro_id, 'final_status': predictions})\n",
    "filename = 'submissison.csv'\n",
    "sub.to_csv(filename, index=False, columns=['project_id', 'final_status'])\n",
    "FileLink(filename)"
   ]
  },
  {
   "cell_type": "code",
   "execution_count": 45,
   "metadata": {},
   "outputs": [
    {
     "data": {
      "text/html": [
       "<div>\n",
       "<style>\n",
       "    .dataframe thead tr:only-child th {\n",
       "        text-align: right;\n",
       "    }\n",
       "\n",
       "    .dataframe thead th {\n",
       "        text-align: left;\n",
       "    }\n",
       "\n",
       "    .dataframe tbody tr th {\n",
       "        vertical-align: top;\n",
       "    }\n",
       "</style>\n",
       "<table border=\"1\" class=\"dataframe\">\n",
       "  <thead>\n",
       "    <tr style=\"text-align: right;\">\n",
       "      <th></th>\n",
       "      <th>project_id</th>\n",
       "      <th>name</th>\n",
       "      <th>desc</th>\n",
       "      <th>goal</th>\n",
       "      <th>keywords</th>\n",
       "      <th>disable_communication</th>\n",
       "      <th>country</th>\n",
       "      <th>currency</th>\n",
       "      <th>deadline</th>\n",
       "      <th>state_changed_at</th>\n",
       "      <th>created_at</th>\n",
       "      <th>launched_at</th>\n",
       "      <th>backers_count</th>\n",
       "      <th>final_status</th>\n",
       "    </tr>\n",
       "  </thead>\n",
       "  <tbody>\n",
       "    <tr>\n",
       "      <th>0</th>\n",
       "      <td>kkst1451568084</td>\n",
       "      <td>drawing for dollars</td>\n",
       "      <td>I like drawing pictures. and then i color them...</td>\n",
       "      <td>20.0</td>\n",
       "      <td>drawing-for-dollars</td>\n",
       "      <td>False</td>\n",
       "      <td>US</td>\n",
       "      <td>USD</td>\n",
       "      <td>1241333999</td>\n",
       "      <td>1241334017</td>\n",
       "      <td>1240600507</td>\n",
       "      <td>1240602723</td>\n",
       "      <td>3</td>\n",
       "      <td>1</td>\n",
       "    </tr>\n",
       "    <tr>\n",
       "      <th>1</th>\n",
       "      <td>kkst1474482071</td>\n",
       "      <td>Sponsor Dereck Blackburn (Lostwars) Artist in ...</td>\n",
       "      <td>I, Dereck Blackburn will be taking upon an inc...</td>\n",
       "      <td>300.0</td>\n",
       "      <td>sponsor-dereck-blackburn-lostwars-artist-in-re...</td>\n",
       "      <td>False</td>\n",
       "      <td>US</td>\n",
       "      <td>USD</td>\n",
       "      <td>1242429000</td>\n",
       "      <td>1242432018</td>\n",
       "      <td>1240960224</td>\n",
       "      <td>1240975592</td>\n",
       "      <td>2</td>\n",
       "      <td>0</td>\n",
       "    </tr>\n",
       "  </tbody>\n",
       "</table>\n",
       "</div>"
      ],
      "text/plain": [
       "       project_id                                               name  \\\n",
       "0  kkst1451568084                                drawing for dollars   \n",
       "1  kkst1474482071  Sponsor Dereck Blackburn (Lostwars) Artist in ...   \n",
       "\n",
       "                                                desc   goal  \\\n",
       "0  I like drawing pictures. and then i color them...   20.0   \n",
       "1  I, Dereck Blackburn will be taking upon an inc...  300.0   \n",
       "\n",
       "                                            keywords  disable_communication  \\\n",
       "0                                drawing-for-dollars                  False   \n",
       "1  sponsor-dereck-blackburn-lostwars-artist-in-re...                  False   \n",
       "\n",
       "  country currency    deadline  state_changed_at  created_at  launched_at  \\\n",
       "0      US      USD  1241333999        1241334017  1240600507   1240602723   \n",
       "1      US      USD  1242429000        1242432018  1240960224   1240975592   \n",
       "\n",
       "   backers_count  final_status  \n",
       "0              3             1  \n",
       "1              2             0  "
      ]
     },
     "execution_count": 45,
     "metadata": {},
     "output_type": "execute_result"
    }
   ],
   "source": [
    "TrainData.head(2)"
   ]
  },
  {
   "cell_type": "code",
   "execution_count": null,
   "metadata": {},
   "outputs": [],
   "source": []
  },
  {
   "cell_type": "code",
   "execution_count": null,
   "metadata": {},
   "outputs": [],
   "source": []
  },
  {
   "cell_type": "code",
   "execution_count": null,
   "metadata": {},
   "outputs": [],
   "source": []
  },
  {
   "cell_type": "code",
   "execution_count": null,
   "metadata": {},
   "outputs": [],
   "source": []
  },
  {
   "cell_type": "code",
   "execution_count": null,
   "metadata": {},
   "outputs": [],
   "source": []
  },
  {
   "cell_type": "code",
   "execution_count": null,
   "metadata": {},
   "outputs": [],
   "source": []
  },
  {
   "cell_type": "code",
   "execution_count": null,
   "metadata": {},
   "outputs": [],
   "source": []
  },
  {
   "cell_type": "code",
   "execution_count": null,
   "metadata": {},
   "outputs": [],
   "source": []
  },
  {
   "cell_type": "code",
   "execution_count": 47,
   "metadata": {},
   "outputs": [],
   "source": [
    "from sklearn.feature_extraction.text import TfidfVectorizer, TfidfTransformer, CountVectorizer\n",
    "from sklearn.decomposition import NMF\n",
    "import string\n",
    "from nltk.corpus import stopwords\n",
    "from nltk.tokenize import word_tokenize\n",
    "from nltk.stem.porter import PorterStemmer\n",
    "from nltk.stem.wordnet import WordNetLemmatizer\n",
    "from string import punctuation\n",
    "import re\n",
    "import dill as pickle\n",
    "from time import time\n",
    "from datetime import datetime\n",
    "from unidecode import unidecode"
   ]
  },
  {
   "cell_type": "code",
   "execution_count": 84,
   "metadata": {},
   "outputs": [],
   "source": [
    "class TopicModeling(object):\n",
    "\n",
    "    def __init__(self):\n",
    "        pass\n",
    "\n",
    "    def clean_documents(self, descriptions):\n",
    "        documents = [unidecode(document).lower().translate(string.punctuation)\n",
    "                    for document in descriptions]\n",
    "        documents = [re.sub(r'\\d+', '', doc) for doc in documents]\n",
    "        return documents\n",
    "\n",
    "    def get_tf(self, descriptions):\n",
    "        '''\n",
    "        INPUT: array of project descriptions\n",
    "        OUTPUT: count_vectorizer, term_frequency_matrix\n",
    "        '''\n",
    "        documents = self.clean_documents(descriptions)\n",
    "        countvec = CountVectorizer(stop_words='english', tokenizer=word_tokenize,\n",
    "                   min_df=5, max_df =0.95 ,ngram_range=(1, 2),\n",
    "                   preprocessor=PorterStemmer().stem)\n",
    "        word_counts_matrix = countvec.fit_transform(descriptions)\n",
    "\n",
    "        return countvec, word_counts_matrix\n",
    "\n",
    "    def get_tfidf(self, descriptions):\n",
    "        '''\n",
    "        INPUT: array of project descriptions\n",
    "        OUTPUT: tfidf_vectorizer, tfidf_matrix\n",
    "        '''\n",
    "        documents = self.clean_documents(descriptions)\n",
    "        tfidfvec = TfidfVectorizer(stop_words='english', tokenizer=word_tokenize,\n",
    "                   min_df=5, max_df =0.95 ,ngram_range=(1, 2),\n",
    "                   preprocessor=PorterStemmer().stem)\n",
    "        tfidf_matrix = tfidfvec.fit_transform(documents)\n",
    "\n",
    "        return tfidfvec, tfidf_matrix\n",
    "\n",
    "    def get_nmf_results(self, tfidf_matrix, n_topics=20):\n",
    "        '''\n",
    "        INPUT: tfidf_matrix, number of latent topics\n",
    "        OUTPUT: W matrix, H matrix, nmf\n",
    "        '''\n",
    "        nmf = NMF(n_components=n_topics)\n",
    "        W = nmf.fit_transform(tfidf_matrix)\n",
    "        H = nmf.components_\n",
    "\n",
    "        return W, H, nmf\n",
    "\n",
    "    def get_Wtest(self, full_tf, X_test_d, nmf):\n",
    "        full_tf_matrix_test = full_tf.transform(X_test_d)\n",
    "        W_test = nmf.transform(full_tf_matrix_test)\n",
    "\n",
    "        return W_test, full_tf_matrix_test\n",
    "\n",
    "    def get_success_pct_per_topic(W,y):\n",
    "        '''\n",
    "        Retrieve campaign success percentage by latent topics.\n",
    "        INPUT: W matrix, y array\n",
    "        OUTPUT: dataframe of topics and success percentage\n",
    "        '''\n",
    "        topic_label = np.apply_along_axis(func1d=np.argmax,axis=1, arr=W)\n",
    "        dtf = pd.DataFrame()\n",
    "        dtf['topic'] = topic_label\n",
    "        dtf['outcome'] = map(lambda x:1 if x else 0, y)\n",
    "        group = dtf.groupby('topic').sum()\n",
    "        group['total'] = dtf.groupby('topic').count()\n",
    "        group['pct'] = group.outcome/group.total\n",
    "\n",
    "        return group\n",
    "\n",
    "    def describe_nmf_results(full_tf, H, W,y_train, n_top_words = 10):\n",
    "        '''\n",
    "        Retrieve top n words describing NMF latent topics, along with\n",
    "        corresponding success rates.\n",
    "        '''\n",
    "        feature_words = full_tf.get_feature_names()\n",
    "        top_topic_words = []\n",
    "        for topic_num, topic in enumerate(H):\n",
    "            top_words = [feature_words[i] for i in topic.argsort()[:-n_top_words - 1:-1]]\n",
    "            top_topic_words.append([topic_num,top_words])\n",
    "\n",
    "\n",
    "        nmf_df = pd.DataFrame(top_topic_words, columns=['topic','top_words'])\n",
    "        group = get_success_pct_per_topic(W_train,y_train)\n",
    "\n",
    "        mdf = group.merge(nmf_df, left_on='index1', right_on='topic',how='outer')\n",
    "        return mdf"
   ]
  },
  {
   "cell_type": "code",
   "execution_count": 76,
   "metadata": {},
   "outputs": [],
   "source": [
    "d = TopicModeling()"
   ]
  },
  {
   "cell_type": "code",
   "execution_count": 88,
   "metadata": {},
   "outputs": [],
   "source": [
    "data, data2 = d.get_tf((TrainData['desc'][1]))"
   ]
  },
  {
   "cell_type": "code",
   "execution_count": 89,
   "metadata": {},
   "outputs": [
    {
     "name": "stdout",
     "output_type": "stream",
     "text": [
      "  (4, 1)\t1\n",
      "  (5, 6)\t1\n",
      "  (6, 1)\t1\n",
      "  (8, 2)\t1\n",
      "  (10, 0)\t1\n",
      "  (11, 3)\t1\n",
      "  (14, 2)\t1\n",
      "  (15, 0)\t1\n",
      "  (17, 6)\t1\n",
      "  (18, 4)\t1\n",
      "  (22, 3)\t1\n",
      "  (23, 3)\t1\n",
      "  (25, 0)\t1\n",
      "  (26, 1)\t1\n",
      "  (28, 7)\t1\n",
      "  (30, 2)\t1\n",
      "  (32, 4)\t1\n",
      "  (37, 5)\t1\n",
      "  (38, 4)\t1\n",
      "  (41, 4)\t1\n",
      "  (44, 4)\t1\n",
      "  (46, 6)\t1\n",
      "  (47, 1)\t1\n",
      "  (50, 0)\t1\n",
      "  (51, 3)\t1\n",
      "  :\t:\n",
      "  (72, 7)\t1\n",
      "  (75, 5)\t1\n",
      "  (92, 3)\t1\n",
      "  (93, 3)\t1\n",
      "  (95, 0)\t1\n",
      "  (96, 1)\t1\n",
      "  (98, 7)\t1\n",
      "  (99, 6)\t1\n",
      "  (102, 1)\t1\n",
      "  (103, 3)\t1\n",
      "  (105, 4)\t1\n",
      "  (108, 7)\t1\n",
      "  (109, 5)\t1\n",
      "  (115, 5)\t1\n",
      "  (117, 1)\t1\n",
      "  (118, 7)\t1\n",
      "  (119, 5)\t1\n",
      "  (121, 4)\t1\n",
      "  (123, 5)\t1\n",
      "  (126, 2)\t1\n",
      "  (128, 4)\t1\n",
      "  (129, 2)\t1\n",
      "  (131, 2)\t1\n",
      "  (132, 1)\t1\n",
      "  (133, 1)\t1\n"
     ]
    }
   ],
   "source": [
    "print(data2)"
   ]
  },
  {
   "cell_type": "code",
   "execution_count": null,
   "metadata": {},
   "outputs": [],
   "source": []
  }
 ],
 "metadata": {
  "kernelspec": {
   "display_name": "Python 3",
   "language": "python",
   "name": "python3"
  },
  "language_info": {
   "codemirror_mode": {
    "name": "ipython",
    "version": 3
   },
   "file_extension": ".py",
   "mimetype": "text/x-python",
   "name": "python",
   "nbconvert_exporter": "python",
   "pygments_lexer": "ipython3",
   "version": "3.5.4"
  }
 },
 "nbformat": 4,
 "nbformat_minor": 2
}
